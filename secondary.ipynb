{
 "cells": [
  {
   "cell_type": "code",
   "execution_count": 29,
   "metadata": {},
   "outputs": [],
   "source": [
    "import os, zipfile\n",
    "import tensorflow as tf\n",
    "import pandas as pd\n",
    "import demoji\n",
    "import csv\n",
    "import re\n",
    "import string\n",
    "import pickle"
   ]
  },
  {
   "cell_type": "code",
   "execution_count": 2,
   "metadata": {},
   "outputs": [],
   "source": [
    "# extracting files\n",
    "zip_path = 'archive.zip'\n",
    "extract_dir = './datasets'\n",
    "\n",
    "with zipfile.ZipFile(zip_path, 'r') as zip_file:\n",
    "    zip_file.extractall(extract_dir)\n",
    "\n",
    "\n",
    "ds_path = './datasets/'"
   ]
  },
  {
   "cell_type": "code",
   "execution_count": 3,
   "metadata": {},
   "outputs": [],
   "source": [
    "#check data\n",
    "df_train = pd.read_csv(ds_path+'twitter_training.csv', names=['ID','user','SC','Comment'])\n",
    "df_test = pd.read_csv(ds_path+'twitter_validation.csv', names=['ID','user','SC','Comment'])"
   ]
  },
  {
   "cell_type": "code",
   "execution_count": 4,
   "metadata": {},
   "outputs": [],
   "source": [
    "def dropRowValue(dataframe,column,values):\n",
    "    return dataframe[~dataframe[column].isin(values)]\n",
    "\n",
    "# categorizing in positive and negative, and dropping unnecessary columns\n",
    "filter_df_train = dropRowValue(df_train,'SC',['Neutral','Irrelevant']).drop(['ID','user'], axis=1)\n",
    "filter_df_test = dropRowValue(df_train,'SC',['Neutral','Irrelevant']).drop(['ID','user'], axis=1)"
   ]
  },
  {
   "cell_type": "code",
   "execution_count": 5,
   "metadata": {},
   "outputs": [],
   "source": [
    "x_train = filter_df_train['Comment'].to_list()\n",
    "y_train = filter_df_train['SC'].to_list()\n",
    "x_test = filter_df_train['Comment'].to_list()\n",
    "y_test = filter_df_train['SC'].to_list()"
   ]
  },
  {
   "cell_type": "code",
   "execution_count": 6,
   "metadata": {},
   "outputs": [],
   "source": [
    "y_train_num = []\n",
    "y_test_num = []\n",
    "for row_train, row_test in zip(y_train,y_test):\n",
    "    if row_train == 'Positive' or row_test == 'Positive':\n",
    "        y_train_num.append(1)\n",
    "        y_test_num.append(1)\n",
    "    else:\n",
    "        y_train_num.append(0)\n",
    "        y_test_num.append(0)"
   ]
  },
  {
   "cell_type": "code",
   "execution_count": 7,
   "metadata": {},
   "outputs": [],
   "source": [
    "# generating the emoji mask\n",
    "import emoji\n",
    "\n",
    "def emojiMask(sentence):\n",
    "    sentenceEmojiMask = emoji.replace_emoji(sentence,\n",
    "                        replace=lambda chars,\n",
    "                        data_dict: chars.encode('ascii', 'namereplace').decode())\n",
    "    return sentenceEmojiMask\n",
    "\n",
    "\n",
    "x_train_emojimask = [emojiMask(str(row)) for row in x_train]\n",
    "x_test_emojimask = [emojiMask(str(row)) for row in x_test]"
   ]
  },
  {
   "cell_type": "markdown",
   "metadata": {},
   "source": [
    "## Second approach"
   ]
  },
  {
   "cell_type": "code",
   "execution_count": 88,
   "metadata": {},
   "outputs": [],
   "source": [
    "# tensor vector for model\n",
    "def trainTensorSlice(xtrain,ytrain):\n",
    "    x_tensor = tf.constant(xtrain)\n",
    "    y_tensor = tf.constant(ytrain)\n",
    "    dataset_tensor = tf.data.Dataset.from_tensor_slices((x_tensor,y_tensor)) # no batching, the batching will be later on\n",
    "    return dataset_tensor\n",
    "\n",
    "train_ds = trainTensorSlice(x_train_emojimask,y_train_num)\n",
    "test_ds = trainTensorSlice(x_test_emojimask,y_test_num)"
   ]
  },
  {
   "cell_type": "code",
   "execution_count": 90,
   "metadata": {},
   "outputs": [],
   "source": [
    "BUFFER_SIZE = 10000\n",
    "BATCH_SIZE = 64\n",
    "\n",
    "train_dataset = train_ds.shuffle(BUFFER_SIZE).batch(BATCH_SIZE).prefetch(tf.data.AUTOTUNE)\n",
    "test_dataset = test_ds.shuffle(BUFFER_SIZE).batch(BATCH_SIZE).prefetch(tf.data.AUTOTUNE)"
   ]
  },
  {
   "cell_type": "code",
   "execution_count": 93,
   "metadata": {},
   "outputs": [
    {
     "name": "stderr",
     "output_type": "stream",
     "text": [
      "2024-04-24 13:57:56.100665: I tensorflow/core/common_runtime/executor.cc:1197] [/device:CPU:0] (DEBUG INFO) Executor start aborting (this does not indicate an error and you can ignore this message): INVALID_ARGUMENT: You must feed a value for placeholder tensor 'Placeholder/_0' with dtype string and shape [43374]\n",
      "\t [[{{node Placeholder/_0}}]]\n",
      "2024-04-24 13:57:56.101239: I tensorflow/core/common_runtime/executor.cc:1197] [/device:CPU:0] (DEBUG INFO) Executor start aborting (this does not indicate an error and you can ignore this message): INVALID_ARGUMENT: You must feed a value for placeholder tensor 'Placeholder/_1' with dtype int32 and shape [43374]\n",
      "\t [[{{node Placeholder/_1}}]]\n"
     ]
    }
   ],
   "source": [
    "VOCAB_SIZE = 1000\n",
    "\n",
    "encoder = tf.keras.layers.TextVectorization(max_tokens=VOCAB_SIZE)\n",
    "encoder.adapt(train_dataset.map(lambda text, label: text))"
   ]
  },
  {
   "cell_type": "code",
   "execution_count": 96,
   "metadata": {},
   "outputs": [
    {
     "data": {
      "text/plain": [
       "(1000,)"
      ]
     },
     "execution_count": 96,
     "metadata": {},
     "output_type": "execute_result"
    }
   ],
   "source": [
    "import numpy as np\n",
    "\n",
    "vocab = np.array(encoder.get_vocabulary())\n",
    "vocab.shape"
   ]
  },
  {
   "cell_type": "markdown",
   "metadata": {},
   "source": [
    "### start example\n",
    "\n",
    "Generate a vocabulary out of the training dataset and de-gerenate it"
   ]
  },
  {
   "cell_type": "code",
   "execution_count": 99,
   "metadata": {},
   "outputs": [
    {
     "name": "stdout",
     "output_type": "stream",
     "text": [
      "text:  [b'It\\'s a shame that Overwatch doesn\\'t do any OWL-related events in the game, for example, in \"arcade mode,\" where you compete with fans of other teams for points, and the team skins are always on'\n",
      " b'the ohhh you'\n",
      " b'Continuing my endeavors of bringing the immense bullshit the UNFINISHED games has. This game has no fuckimg integrity on making it a one one release a million thing despite ALL the money the get from from company from VC alone. An embarrassment. @NBA2K @Ronnie2K @2K https://t.co/NpyLtg9WHb]'\n",
      " b'Instead of promoting fix-ur servers'\n",
      " b'My 4 fave games are Minecraft. Borderlands 2.Forza horizon 4. Lego star wars'\n",
      " b'Hmmm or'\n",
      " b'It was one of the coolest events in the game so far. Not only was it like an open space to interact with, but actually playing the game and running around the map and \"solving the mystery\" was so much fun.'\n",
      " b'a one.'\n",
      " b'2009 Having fun playing some pretty overwatch... store. for playstation. com /'\n",
      " b'Interesting'\n",
      " b\"Was it really four years?... The bar has been set high and I can't wait to see what's next for Overwatch.\"\n",
      " b\"It's funny. I was on the fence, but it's just the beginning, and they're doing it.\"\n",
      " b'I love u guys.'\n",
      " b'@XboxP3 ask of Xbox Series X what\\xe2\\x80\\x99s the point now that Halo has been delayed.'\n",
      " b'Highly recommended! This will surely be now great memorabilia to finally pass through along to the grandkids someday.'\n",
      " b'TAKE ALL MY FUCKING MONEEEEEEEYYYYY'\n",
      " b'Never in my life have i ever fealt this fed up over a game that wasnt overwatch'\n",
      " b'@Hunduks we will never be as happy as we were during the overwatch beta . '\n",
      " b\"Who's at @ Borderlands\" b'i am overwatch <unk>'\n",
      " b'Ok so this is getting to me... Microsoft saying they wont have any Year 1 exclusives for Xbox Series X is a business within within THEIR benifit, you totally understand that right?.. There are people out this thinking they should selling it out<unk> the kindness of their hearts for the people involved'\n",
      " b'Look, I love Borderlands 3 to death, but what I want to know is WHICH MORON AT GEARBOX DESIGNED THE MALIWAN CIRCLE OF SLAUGHTER?! 10 HEAVIES AND 4 BADASS TROOPERS IN A SINGLE WAVE?! ARE YOU KIDDING ME?!'\n",
      " b'Parking Wars is absolute favorite. So happy i found it on Amazon Prime!'\n",
      " b'Lmao that would be so funny' b'It hurts my brain'\n",
      " b'epic Overwatch gameplay I !commands twitch.tv/miniteno'\n",
      " b'Yo im not gettin no centers on my team wtf wtf west servers never get w center only when im on east i get centers every game.. @ N2K plz fix @ Ron2K @ LD2K @ Beluba'\n",
      " b'Eli Whitney Roth International is making a movie based loosely on using the game,.. bit. ly / on 2wv4KHM'\n",
      " b'I HATE borderlands 3 Rhys WHY does he look like that this is not the beautiful disaster twink I love'\n",
      " b'@2KSupport @NBA2K @Ronnie2K the jump shot that i pick never takes off always resets to the shot 70 please can you fix it'\n",
      " b'@wykrhm @DOTA2 so upset with next years stuff, all the details about arcanas and personas but even still at unachievable levels if you dont buy levels, all the good features which helped us try it out that level up its gone too, This is complete trash, do something'\n",
      " b'With Xbox Series X on the way, Microsoft has killed Kinect - and forever... buff.ly / 3h6mtr9 https: / / Fenco / Voj58Z61gY'\n",
      " b'Anyone who knows me knows that I hate pre-ordering games on Amazon because they make you wait all day before your package gets here and I\\xe2\\x80\\x99d rather go to GameStop early in the morning... That being said, I can\\xe2\\x80\\x99t leave my house, so I caved. pic.twitter.com/P5Yhv7o8E3'\n",
      " b'Sly @ Borderlands haha. The mission \"The Demon in the Dark.\" Mines of Moria. Nice.'\n",
      " b'1. I like this music, pretty good for ages and 2. The stupid flying robots! Borderlands 2'\n",
      " b'THE TRAILER BRO KE EXCITED'\n",
      " b'@NBA2K power game is so shit like why can\\xe2\\x80\\x99t @russwest44 make a simple point conversion?'\n",
      " b'@amazon have scheduled reverse pick up since 28 feb 2020, but person comes for pick up he refuse to pick up ,and saying Number  is not matching so we cannot  do kindly pls help me get out of this problem'\n",
      " b'So glad you be experiencing'\n",
      " b'having so long trouble streaming and playing Overwatch again, thank by all for all the support<unk> well!! stream will resume tomorrow!! love u all'\n",
      " b'it' b'Omg<unk>' b'<unk> again'\n",
      " b'IBM Still my favorite CoD teaser EVER! \\\\N{SMILING FACE WITH SMILING EYES AND THREE HEARTS}. twitter.com/Call0fDutyWiki\\xe2\\x80\\xa6'\n",
      " b\"Let's have @Treyarch do something to remove the racist and hateful language in Black Ops Cold War since @InfinityWard don't seem to know a fig\"\n",
      " b'Nerd Tweet : I too \\xe2\\x80\\x99 m getting really disappointed... with @PlayOverwatch one of my favorite games yet that I have played since day number 1. Sometimes I feel as though all this they care about is esports. We finally actually got a new hero, cool, but a another dps. 2 / 3 2 / 2 2 I can kinda get behind. But let us open your switch...'\n",
      " b'@Ronnie2K on @NBA2K on me Iv reset just Iv changed clothes and I\\xe2\\x80\\x99m now not being able to be seen help out my voice can\\xe2\\x80\\x99t look seen me can\\xe2\\x80\\x99t see my self watch my stream it\\xe2\\x80\\x99ll show it I\\xe2\\x80\\x99m trying to fix it but I\\xe2\\x80\\x99ve updated app and changed my fit better yet it\\xe2\\x80\\x99s the same'\n",
      " b'And Overwatch makes me go grrr'\n",
      " b\"Go on cod for 30 minutes and you'll be called every conceivable slur and see three users with the n-word in their first name, but yeah! nb\"\n",
      " b'Oh woe. Greet them.'\n",
      " b'Time for a few more booms and busts at @ PlayOverwatch on @ Bentley.'\n",
      " b\"I think I should watch it because I'm playing it tonight.\"\n",
      " b'i can play overwatch again (bad)'\n",
      " b\"@ Ron2K @ N2K @ 2KSupport help me Iv reset app Iv changed clothes and I'm still being able to be seen help me my person can't be seen I can't see my self watch my stream it'll show it I'm trying to fix it but I've reset app and changed my fit bit yet it's the same\"\n",
      " b'@2KIntel @NBA2K @ShakeDown2012 1v1 is ehh like the 1 MAJOR ISSUE that needs a fix from 2k21 in failing. taking a smoothered shot for 1 vs 1 can not mean similar problem as other modes I got perim lock w/ low handles so any tap by the defense I pick up next key, a smothered shot starts next'\n",
      " b'@GearboxOfficial fix Borderlands 3 achievements. IT is unreal that you guys will check this out.'\n",
      " b'cant wait for lebron balls to play those Earth shaker with her Scepter.'\n",
      " b'1st Omg.'\n",
      " b'Soooo..... Got my first part of the game in overwatch today, i am falling in love with this :'\n",
      " b'Thats kinda a client move...' b'K I like this skin'\n",
      " b'After listening to Sigmas, the mood was simple - looking at the clock - oh, look at the time he would give up watching for another playing hour.'\n",
      " b'@ N2K why are you so toxic.' b'@NBA2K yo fix my broke ass game']\n",
      "label:  [0 1 0 0 1 1 1 1 1 1 1 0 1 0 1 0 0 0 1 1 0 0 1 1 0 1 0 1 0 0 0 1 0 1 1 1 0\n",
      " 0 1 1 1 0 0 1 0 0 0 1 0 1 1 1 1 0 0 0 1 0 1 0 1 0 0 0]\n"
     ]
    },
    {
     "name": "stderr",
     "output_type": "stream",
     "text": [
      "2024-04-24 14:02:28.664341: I tensorflow/core/common_runtime/executor.cc:1197] [/device:CPU:0] (DEBUG INFO) Executor start aborting (this does not indicate an error and you can ignore this message): INVALID_ARGUMENT: You must feed a value for placeholder tensor 'Placeholder/_1' with dtype int32 and shape [43374]\n",
      "\t [[{{node Placeholder/_1}}]]\n",
      "2024-04-24 14:02:28.665275: I tensorflow/core/common_runtime/executor.cc:1197] [/device:CPU:0] (DEBUG INFO) Executor start aborting (this does not indicate an error and you can ignore this message): INVALID_ARGUMENT: You must feed a value for placeholder tensor 'Placeholder/_1' with dtype int32 and shape [43374]\n",
      "\t [[{{node Placeholder/_1}}]]\n"
     ]
    }
   ],
   "source": [
    "for example, label in train_dataset.take(1):\n",
    "  print('text: ', example.numpy())\n",
    "  print('label: ', label.numpy())"
   ]
  },
  {
   "cell_type": "code",
   "execution_count": 100,
   "metadata": {},
   "outputs": [
    {
     "data": {
      "text/plain": [
       "array([[ 31,   6,   1,  16, 168, 281,  43, 171,   1,   1,  12,   2,  17,\n",
       "         11,   1,  12,   1, 398, 253,  14,   1,  18, 627,   8, 231, 818,\n",
       "         11, 591,   5,   2, 214, 847,  25, 186,  15,   0,   0,   0,   0,\n",
       "          0,   0,   0,   0,   0,   0,   0,   0,   0,   0,   0,   0,   0,\n",
       "          0,   0,   0,   0,   0,   0,   0,   0,   0,   0,   0,   0,   0],\n",
       "       [  2,   1,  14,   0,   0,   0,   0,   0,   0,   0,   0,   0,   0,\n",
       "          0,   0,   0,   0,   0,   0,   0,   0,   0,   0,   0,   0,   0,\n",
       "          0,   0,   0,   0,   0,   0,   0,   0,   0,   0,   0,   0,   0,\n",
       "          0,   0,   0,   0,   0,   0,   0,   0,   0,   0,   0,   0,   0,\n",
       "          0,   0,   0,   0,   0,   0,   0,   0,   0,   0,   0,   0,   0],\n",
       "       [  1,  13,   1,   8,   1,   2,   1, 582,   2,   1,  69,  62,   9,\n",
       "         17,  62,  47,   1,   1,  15, 307,  10,   6,  48,  48, 366,   6,\n",
       "        558, 233, 681,  27,   2, 219,   2,  32,  36,  36, 293,  36,   1,\n",
       "        816,  57,   1, 125, 523, 330,   1,   0,   0,   0,   0,   0,   0,\n",
       "          0,   0,   0,   0,   0,   0,   0,   0,   0,   0,   0,   0,   0]])"
      ]
     },
     "execution_count": 100,
     "metadata": {},
     "output_type": "execute_result"
    }
   ],
   "source": [
    "encoded_example = encoder(example)[:3].numpy()\n",
    "encoded_example"
   ]
  },
  {
   "cell_type": "code",
   "execution_count": 101,
   "metadata": {},
   "outputs": [
    {
     "name": "stdout",
     "output_type": "stream",
     "text": [
      "Original:  b'It\\'s a shame that Overwatch doesn\\'t do any OWL-related events in the game, for example, in \"arcade mode,\" where you compete with fans of other teams for points, and the team skins are always on'\n",
      "Round-trip:  its a [UNK] that overwatch doesnt do any [UNK] [UNK] in the game for [UNK] in [UNK] mode where you [UNK] with fans of other teams for points and the team skins are always on                              \n",
      "\n",
      "Original:  b'the ohhh you'\n",
      "Round-trip:  the [UNK] you                                                              \n",
      "\n",
      "Original:  b'Continuing my endeavors of bringing the immense bullshit the UNFINISHED games has. This game has no fuckimg integrity on making it a one one release a million thing despite ALL the money the get from from company from VC alone. An embarrassment. @NBA2K @Ronnie2K @2K https://t.co/NpyLtg9WHb]'\n",
      "Round-trip:  [UNK] my [UNK] of [UNK] the [UNK] bullshit the [UNK] games has this game has no [UNK] [UNK] on making it a one one release a million thing despite all the money the get from from company from [UNK] alone an [UNK] nba2k ronnie2k 2k [UNK]                   \n",
      "\n"
     ]
    }
   ],
   "source": [
    "for n in range(3):\n",
    "  print(\"Original: \", example[n].numpy())\n",
    "  print(\"Round-trip: \", \" \".join(vocab[encoded_example[n]]))\n",
    "  print()"
   ]
  },
  {
   "cell_type": "markdown",
   "metadata": {},
   "source": [
    "### End example"
   ]
  },
  {
   "cell_type": "code",
   "execution_count": 128,
   "metadata": {},
   "outputs": [],
   "source": [
    "model = tf.keras.Sequential([\n",
    "    encoder,\n",
    "    tf.keras.layers.Embedding(\n",
    "        input_dim=len(encoder.get_vocabulary()),\n",
    "        output_dim=64,\n",
    "        # Use masking to handle the variable sequence lengths\n",
    "        mask_zero=True),\n",
    "    tf.keras.layers.Bidirectional(tf.keras.layers.LSTM(64)),\n",
    "    tf.keras.layers.Dense(64, activation='relu'),\n",
    "    tf.keras.layers.Dense(1, activation='sigmoid')\n",
    "])\n"
   ]
  },
  {
   "cell_type": "code",
   "execution_count": 129,
   "metadata": {},
   "outputs": [],
   "source": [
    "# Sigmoid activation function, which converts logits (raw model outputs) to probabilities\n",
    "model.compile(loss=tf.keras.losses.BinaryCrossentropy(from_logits=False),\n",
    "              optimizer=tf.keras.optimizers.Adam(1e-4),\n",
    "              metrics=['accuracy'])"
   ]
  },
  {
   "cell_type": "code",
   "execution_count": 130,
   "metadata": {},
   "outputs": [
    {
     "name": "stdout",
     "output_type": "stream",
     "text": [
      "Model: \"sequential_6\"\n",
      "_________________________________________________________________\n",
      " Layer (type)                Output Shape              Param #   \n",
      "=================================================================\n",
      " text_vectorization_4 (TextV  (None, None)             0         \n",
      " ectorization)                                                   \n",
      "                                                                 \n",
      " embedding_6 (Embedding)     (None, None, 64)          64000     \n",
      "                                                                 \n",
      " bidirectional_3 (Bidirectio  (None, 128)              66048     \n",
      " nal)                                                            \n",
      "                                                                 \n",
      " dense_12 (Dense)            (None, 64)                8256      \n",
      "                                                                 \n",
      " dense_13 (Dense)            (None, 1)                 65        \n",
      "                                                                 \n",
      "=================================================================\n",
      "Total params: 138,369\n",
      "Trainable params: 138,369\n",
      "Non-trainable params: 0\n",
      "_________________________________________________________________\n"
     ]
    }
   ],
   "source": [
    "model.summary()"
   ]
  },
  {
   "cell_type": "code",
   "execution_count": 131,
   "metadata": {},
   "outputs": [
    {
     "name": "stdout",
     "output_type": "stream",
     "text": [
      "Epoch 1/10\n"
     ]
    },
    {
     "name": "stderr",
     "output_type": "stream",
     "text": [
      "2024-04-24 14:51:50.631101: I tensorflow/core/common_runtime/executor.cc:1197] [/device:CPU:0] (DEBUG INFO) Executor start aborting (this does not indicate an error and you can ignore this message): INVALID_ARGUMENT: You must feed a value for placeholder tensor 'gradients/ReverseV2_grad/ReverseV2/ReverseV2/axis' with dtype int32 and shape [1]\n",
      "\t [[{{node gradients/ReverseV2_grad/ReverseV2/ReverseV2/axis}}]]\n",
      "2024-04-24 14:51:53.683877: I tensorflow/core/common_runtime/executor.cc:1197] [/device:CPU:0] (DEBUG INFO) Executor start aborting (this does not indicate an error and you can ignore this message): INVALID_ARGUMENT: You must feed a value for placeholder tensor 'gradients/ReverseV2_grad/ReverseV2/ReverseV2/axis' with dtype int32 and shape [1]\n",
      "\t [[{{node gradients/ReverseV2_grad/ReverseV2/ReverseV2/axis}}]]\n"
     ]
    },
    {
     "name": "stdout",
     "output_type": "stream",
     "text": [
      "678/678 - 39s - loss: 0.5650 - accuracy: 0.7089 - 39s/epoch - 58ms/step\n",
      "Epoch 2/10\n",
      "678/678 - 32s - loss: 0.4133 - accuracy: 0.8142 - 32s/epoch - 47ms/step\n",
      "Epoch 3/10\n",
      "678/678 - 32s - loss: 0.3879 - accuracy: 0.8231 - 32s/epoch - 48ms/step\n",
      "Epoch 4/10\n",
      "678/678 - 32s - loss: 0.3744 - accuracy: 0.8293 - 32s/epoch - 47ms/step\n",
      "Epoch 5/10\n",
      "678/678 - 32s - loss: 0.3634 - accuracy: 0.8342 - 32s/epoch - 46ms/step\n",
      "Epoch 6/10\n",
      "678/678 - 32s - loss: 0.3512 - accuracy: 0.8389 - 32s/epoch - 47ms/step\n",
      "Epoch 7/10\n",
      "678/678 - 34s - loss: 0.3390 - accuracy: 0.8445 - 34s/epoch - 50ms/step\n",
      "Epoch 8/10\n",
      "678/678 - 30s - loss: 0.3285 - accuracy: 0.8508 - 30s/epoch - 45ms/step\n",
      "Epoch 9/10\n",
      "678/678 - 31s - loss: 0.3186 - accuracy: 0.8558 - 31s/epoch - 45ms/step\n",
      "Epoch 10/10\n",
      "678/678 - 31s - loss: 0.3092 - accuracy: 0.8603 - 31s/epoch - 45ms/step\n"
     ]
    }
   ],
   "source": [
    "history = model.fit(train_dataset, \n",
    "                    epochs=10,\n",
    "                    verbose=2)"
   ]
  },
  {
   "cell_type": "code",
   "execution_count": 132,
   "metadata": {},
   "outputs": [
    {
     "name": "stdout",
     "output_type": "stream",
     "text": [
      "678/678 [==============================] - 13s 15ms/step - loss: 0.2951 - accuracy: 0.8678\n",
      "Loss: 0.2950778007507324\n",
      "Accuracy: 0.8678470849990845\n"
     ]
    }
   ],
   "source": [
    "loss, accuracy = model.evaluate(test_dataset)\n",
    "\n",
    "print(f'Loss: {loss}')\n",
    "print(f'Accuracy: {accuracy}')"
   ]
  },
  {
   "cell_type": "code",
   "execution_count": 139,
   "metadata": {},
   "outputs": [
    {
     "name": "stdout",
     "output_type": "stream",
     "text": [
      "dict_keys(['loss', 'accuracy'])\n"
     ]
    },
    {
     "data": {
      "text/plain": [
       "<matplotlib.legend.Legend at 0x7219bdab7ed0>"
      ]
     },
     "execution_count": 139,
     "metadata": {},
     "output_type": "execute_result"
    },
    {
     "data": {
      "image/png": "[encoded data removed]",
      "text/plain": [
       "<Figure size 1000x600 with 2 Axes>"
      ]
     },
     "metadata": {},
     "output_type": "display_data"
    }
   ],
   "source": [
    "import matplotlib.pyplot as plt\n",
    "\n",
    "history_dict = history.history\n",
    "print(history_dict.keys())\n",
    "\n",
    "acc = history_dict['accuracy']\n",
    "# val_acc = history_dict['val_accuracy']\n",
    "loss = history_dict['loss']\n",
    "# val_loss = history_dict['val_loss']\n",
    "\n",
    "epochs = range(1, len(acc) + 1)\n",
    "fig = plt.figure(figsize=(10, 6))\n",
    "fig.tight_layout()\n",
    "\n",
    "plt.subplot(2, 1, 1)\n",
    "# r is for \"solid red line\"\n",
    "plt.plot(epochs, loss, 'r', label='Training loss')\n",
    "# b is for \"solid blue line\"\n",
    "# plt.plot(epochs, val_loss, 'b', label='Validation loss')\n",
    "plt.title('Training and validation loss')\n",
    "# plt.xlabel('Epochs')\n",
    "plt.ylabel('Loss')\n",
    "plt.legend()\n",
    "\n",
    "plt.subplot(2, 1, 2)\n",
    "plt.plot(epochs, acc, 'r', label='Training acc')\n",
    "# plt.plot(epochs, val_acc, 'b', label='Validation acc')\n",
    "plt.title('Training and validation accuracy')\n",
    "plt.xlabel('Epochs')\n",
    "plt.ylabel('Accuracy')\n",
    "plt.legend(loc='lower right')"
   ]
  },
  {
   "cell_type": "code",
   "execution_count": 142,
   "metadata": {},
   "outputs": [
    {
     "data": {
      "text/plain": [
       "<tf.Tensor: shape=(5, 1), dtype=float32, numpy=\n",
       "array([[0.90124977],\n",
       "       [0.01111175],\n",
       "       [0.9271256 ],\n",
       "       [0.80073273],\n",
       "       [0.10089594]], dtype=float32)>"
      ]
     },
     "execution_count": 142,
     "metadata": {},
     "output_type": "execute_result"
    }
   ],
   "source": [
    "examples = [\n",
    "    \"@switchfoot http://twitpic.com/2y1zl - Awww, that's a bummer. You shoulda got David Carr of Third Day to do it. ;D\", \n",
    "    \"is upset that he can't update his Facebook by ...\",\n",
    "    '@Kenichan I dived many times for the ball. Man...',\n",
    "    'my whole body feels itchy and like its on fire',\n",
    "    \"@nationwideclass no, it's not behaving at all....\"\n",
    "]\n",
    "\n",
    "model(tf.constant(examples))"
   ]
  },
  {
   "cell_type": "code",
   "execution_count": null,
   "metadata": {},
   "outputs": [],
   "source": [
    "def emojiMask(sentence):\n",
    "    sentenceEmojiMask = emoji.replace_emoji(sentence,\n",
    "                        replace=lambda chars,\n",
    "                        data_dict: chars.encode('ascii', 'namereplace').decode())\n",
    "    return sentenceEmojiMask\n",
    "\n",
    "\n",
    "example_filtered = [emojiMask(str(row)) for row in x_train]"
   ]
  },
  {
   "cell_type": "markdown",
   "metadata": {},
   "source": [
    "## First approach"
   ]
  },
  {
   "cell_type": "code",
   "execution_count": 8,
   "metadata": {},
   "outputs": [
    {
     "name": "stderr",
     "output_type": "stream",
     "text": [
      "2024-04-23 22:41:55.270601: E tensorflow/compiler/xla/stream_executor/cuda/cuda_driver.cc:266] failed call to cuInit: CUDA_ERROR_UNKNOWN: unknown error\n",
      "2024-04-23 22:41:55.270674: I tensorflow/compiler/xla/stream_executor/cuda/cuda_diagnostics.cc:168] retrieving CUDA diagnostic information for host: HP-Pavilion\n",
      "2024-04-23 22:41:55.270687: I tensorflow/compiler/xla/stream_executor/cuda/cuda_diagnostics.cc:175] hostname: HP-Pavilion\n",
      "2024-04-23 22:41:55.270839: I tensorflow/compiler/xla/stream_executor/cuda/cuda_diagnostics.cc:199] libcuda reported version is: 550.54.15\n",
      "2024-04-23 22:41:55.270881: I tensorflow/compiler/xla/stream_executor/cuda/cuda_diagnostics.cc:203] kernel reported version is: 550.54.15\n",
      "2024-04-23 22:41:55.270893: I tensorflow/compiler/xla/stream_executor/cuda/cuda_diagnostics.cc:309] kernel version seems to match DSO: 550.54.15\n"
     ]
    }
   ],
   "source": [
    "import tensorflow_text as tf_text\n",
    "\n",
    "tokenizer = tf_text.WhitespaceTokenizer()\n",
    "train_tokens = tokenizer.tokenize(x_train_emojimask)\n",
    "test_tokens = tokenizer.tokenize(x_test_emojimask)"
   ]
  },
  {
   "cell_type": "code",
   "execution_count": 9,
   "metadata": {},
   "outputs": [],
   "source": [
    "from itertools import chain\n",
    "\n",
    "def flattenChain(element):\n",
    "    return list(chain.from_iterable(element))\n",
    "\n",
    "\n",
    "flatten_train_tokens = list(set(flattenChain(train_tokens.to_list())))\n",
    "flatten_test_tokens = list(set(flattenChain(test_tokens.to_list())))"
   ]
  },
  {
   "cell_type": "code",
   "execution_count": 10,
   "metadata": {},
   "outputs": [],
   "source": [
    "def _CreateTable(vocab, num_oov=1):\n",
    "    init = tf.lookup.KeyValueTensorInitializer(\n",
    "        vocab,\n",
    "        tf.range(tf.size(vocab, out_type=tf.int64), dtype=tf.int64),\n",
    "        key_dtype=tf.string,\n",
    "        value_dtype=tf.int64)\n",
    "    return tf.lookup.StaticVocabularyTable(init, num_oov, lookup_key_dtype=tf.string)"
   ]
  },
  {
   "cell_type": "code",
   "execution_count": 11,
   "metadata": {},
   "outputs": [],
   "source": [
    "train_vocab = _CreateTable(flatten_train_tokens)\n",
    "test_vocab = _CreateTable(flatten_test_tokens)"
   ]
  },
  {
   "cell_type": "code",
   "execution_count": 65,
   "metadata": {},
   "outputs": [],
   "source": [
    "# tensor vector for model\n",
    "def trainTensorSlice(xtrain,ytrain):\n",
    "    x_tensor = tf.constant(xtrain)\n",
    "    y_tensor = tf.constant(ytrain)\n",
    "    dataset_tensor = tf.data.Dataset.from_tensor_slices((x_tensor,y_tensor)).batch(2)\n",
    "    return dataset_tensor\n",
    "\n",
    "train_ds = trainTensorSlice(x_train_emojimask,y_train_num)\n",
    "test_ds = trainTensorSlice(x_test_emojimask,y_test_num)"
   ]
  },
  {
   "cell_type": "code",
   "execution_count": 66,
   "metadata": {},
   "outputs": [],
   "source": [
    "def trainPreprocess(data, labels):\n",
    "    tokenizer = tf_text.WhitespaceTokenizer()\n",
    "    data = tokenizer.tokenize(data)\n",
    "    data = data.merge_dims(-2,-1)\n",
    "    ids = tf.ragged.map_flat_values(train_vocab.lookup, data)\n",
    "    return (ids, labels)\n",
    "\n",
    "def testPreprocess(data, labels):\n",
    "    tokenizer = tf_text.WhitespaceTokenizer()\n",
    "    data = tokenizer.tokenize(data)\n",
    "    data = data.merge_dims(-2,-1)\n",
    "    ids = tf.ragged.map_flat_values(test_vocab.lookup, data)\n",
    "    return (ids, labels)"
   ]
  },
  {
   "cell_type": "code",
   "execution_count": 67,
   "metadata": {},
   "outputs": [],
   "source": [
    "train_ds = train_ds.map(trainPreprocess)\n",
    "test_ds = test_ds.map(testPreprocess)"
   ]
  },
  {
   "cell_type": "code",
   "execution_count": 68,
   "metadata": {},
   "outputs": [
    {
     "data": {
      "text/plain": [
       "<_MapDataset element_spec=(TensorSpec(shape=(None,), dtype=tf.int64, name=None), TensorSpec(shape=(None,), dtype=tf.int32, name=None))>"
      ]
     },
     "execution_count": 68,
     "metadata": {},
     "output_type": "execute_result"
    }
   ],
   "source": [
    "train_ds"
   ]
  },
  {
   "cell_type": "code",
   "execution_count": null,
   "metadata": {},
   "outputs": [],
   "source": []
  },
  {
   "cell_type": "code",
   "execution_count": null,
   "metadata": {},
   "outputs": [],
   "source": []
  },
  {
   "cell_type": "code",
   "execution_count": null,
   "metadata": {},
   "outputs": [],
   "source": []
  },
  {
   "cell_type": "code",
   "execution_count": null,
   "metadata": {},
   "outputs": [],
   "source": []
  },
  {
   "cell_type": "code",
   "execution_count": 63,
   "metadata": {},
   "outputs": [],
   "source": [
    "reviews_data_array = ['I really liked this movie', 'not my favorite']\n",
    "reviews_labels_array = [1,0]\n",
    "\n",
    "train_x = tf.constant(reviews_data_array)\n",
    "train_y = tf.constant(reviews_labels_array)\n",
    "\n",
    "a = _CreateTable(['I', 'really', 'liked', 'this', 'movie', 'not', 'my', 'favorite'])\n",
    "\n",
    "def preprocess(data, labels):\n",
    "  t = tf_text.WhitespaceTokenizer()\n",
    "  data = t.tokenize(data)\n",
    "  # data = data.merge_dims(-2,-1)\n",
    "  ids = tf.ragged.map_flat_values(a.lookup, data)\n",
    "  return (ids, labels)\n",
    "\n",
    "train_dataset = tf.data.Dataset.from_tensor_slices((train_x, train_y)).batch(2)\n",
    "train_dataset = train_dataset.map(preprocess)"
   ]
  },
  {
   "cell_type": "code",
   "execution_count": 64,
   "metadata": {},
   "outputs": [
    {
     "name": "stdout",
     "output_type": "stream",
     "text": [
      "(<tf.RaggedTensor [[0, 1, 2, 3, 4], [5, 6, 7]]>, <tf.Tensor: shape=(2,), dtype=int32, numpy=array([1, 0], dtype=int32)>)\n"
     ]
    },
    {
     "name": "stderr",
     "output_type": "stream",
     "text": [
      "2024-04-24 13:29:34.742706: I tensorflow/core/common_runtime/executor.cc:1197] [/device:CPU:0] (DEBUG INFO) Executor start aborting (this does not indicate an error and you can ignore this message): INVALID_ARGUMENT: You must feed a value for placeholder tensor 'Placeholder/_6' with dtype resource\n",
      "\t [[{{node Placeholder/_6}}]]\n"
     ]
    }
   ],
   "source": [
    "for e in train_dataset.take(1):\n",
    "    print(e)"
   ]
  },
  {
   "cell_type": "code",
   "execution_count": null,
   "metadata": {},
   "outputs": [],
   "source": []
  },
  {
   "cell_type": "code",
   "execution_count": 38,
   "metadata": {},
   "outputs": [],
   "source": [
    "def filter_dataset(tensor, nsplit=0, category_pos=0):\n",
    "    split_tensor = tf.strings.split(tensor, ',', maxsplit=nsplit)\n",
    "    sentiment_category = split_tensor[category_pos]\n",
    "\n",
    "    return (True if sentiment_category != 'Irrelevant' else False)"
   ]
  },
  {
   "cell_type": "code",
   "execution_count": null,
   "metadata": {},
   "outputs": [],
   "source": []
  },
  {
   "cell_type": "code",
   "execution_count": null,
   "metadata": {},
   "outputs": [],
   "source": []
  },
  {
   "cell_type": "code",
   "execution_count": null,
   "metadata": {},
   "outputs": [],
   "source": []
  },
  {
   "cell_type": "code",
   "execution_count": null,
   "metadata": {},
   "outputs": [],
   "source": []
  },
  {
   "cell_type": "code",
   "execution_count": 39,
   "metadata": {},
   "outputs": [],
   "source": [
    "# converting the data into tensor data using the filter\n",
    "train_ds = tf.data.TextLineDataset('processed_twitter_train.csv').filter(selector_dataset)\n",
    "test_ds = tf.data.TextLineDataset('processed_twitter_test.csv').filter(selector_dataset)"
   ]
  },
  {
   "cell_type": "code",
   "execution_count": null,
   "metadata": {},
   "outputs": [],
   "source": [
    "def custom_standardization(input_data):\n",
    "  lowercase = tf.strings.lower(input_data)\n",
    "  stripped_html = tf.strings.regex_replace(lowercase, '<br />', ' ')\n",
    "  return tf.strings.regex_replace(stripped_html,\n",
    "                                  '[%s]' % re.escape(string.punctuation),\n",
    "                                  '')"
   ]
  },
  {
   "cell_type": "code",
   "execution_count": 40,
   "metadata": {},
   "outputs": [
    {
     "name": "stdout",
     "output_type": "stream",
     "text": [
      "tf.Tensor(b'2401,Borderlands,Positive,\"im getting on borderlands and i will murder you all ,\"', shape=(), dtype=string)\n",
      "tf.Tensor(b'2401,Borderlands,Positive,\"I am coming to the borders and I will kill you all,\"', shape=(), dtype=string)\n"
     ]
    },
    {
     "name": "stderr",
     "output_type": "stream",
     "text": [
      "2024-04-23 11:27:55.243632: I tensorflow/core/common_runtime/executor.cc:1197] [/device:CPU:0] (DEBUG INFO) Executor start aborting (this does not indicate an error and you can ignore this message): INVALID_ARGUMENT: You must feed a value for placeholder tensor 'Placeholder/_0' with dtype string and shape [1]\n",
      "\t [[{{node Placeholder/_0}}]]\n"
     ]
    }
   ],
   "source": [
    "for e in train_ds.take(2):\n",
    "    print(e)"
   ]
  },
  {
   "cell_type": "code",
   "execution_count": null,
   "metadata": {},
   "outputs": [],
   "source": []
  },
  {
   "cell_type": "code",
   "execution_count": 57,
   "metadata": {},
   "outputs": [],
   "source": [
    "import json\n",
    "\n",
    "# import the json file\n",
    "with open('emoji-unicode.json') as json_file:\n",
    "    emoji_dict= json.load(json_file)\n",
    "\n",
    "# remove the unnecessary keys and values from the dictionary \n",
    "trash_keys = ['no',\n",
    "              'emoji',\n",
    "              'flagged',\n",
    "              'keywords']\n",
    "\n",
    "for trash_key in trash_keys:\n",
    "    for _ in range(len(emoji_dict['emojis'])):\n",
    "        emoji_dict['emojis'][_].pop(trash_key,None)"
   ]
  },
  {
   "cell_type": "code",
   "execution_count": 62,
   "metadata": {},
   "outputs": [],
   "source": [
    "# processing the format to unicode\n",
    "def format_to_unicode(s):\n",
    "    code_point = int(s[2:], 16)\n",
    "    return chr(code_point)\n",
    "\n",
    "list_emoji_dict = emoji_dict['emojis']\n",
    "len_list_emoji_dict = len(list_emoji_dict)\n",
    "for _ in range(len_list_emoji_dict):\n",
    "    for code, description in list_emoji_dict[_].items():\n",
    "        emoji_uni = list_emoji_dict[_]['code']\n",
    "        emoji_desc = list_emoji_dict[_]['description']\n",
    "        df_train_ds['Comment'] = df_train_ds['Comment'].str.replace(format_to_unicode(emoji_uni), emoji_desc)\n",
    "        df_test_ds['Comment'] = df_test_ds['Comment'].str.replace(format_to_unicode(emoji_uni), emoji_desc)"
   ]
  },
  {
   "cell_type": "markdown",
   "metadata": {},
   "source": [
    "Once the dataset emoji mask is set, we can export the csv for including it into the general model. Indeed, if we want to, we can do the preprocessing job first including removing stoping words punctuation that might improve the performance in our model in this case."
   ]
  },
  {
   "cell_type": "code",
   "execution_count": 63,
   "metadata": {},
   "outputs": [],
   "source": [
    "#exporting the processed dataset into a csv file\n",
    "df_train_ds.to_csv('processed_twitter_train.csv', index=False, header=False) \n",
    "df_test_ds.to_csv('processed_twitter_test.csv', index=False, header=False) "
   ]
  },
  {
   "cell_type": "code",
   "execution_count": 68,
   "metadata": {},
   "outputs": [
    {
     "name": "stdout",
     "output_type": "stream",
     "text": [
      "tf.Tensor(b'2401,Borderlands,Positive,\"I am coming to the borders and I will kill you all,\"', shape=(), dtype=string)\n",
      "tf.Tensor(b'2401,Borderlands,Positive,\"im getting on borderlands and i will kill you all,\"', shape=(), dtype=string)\n"
     ]
    },
    {
     "name": "stderr",
     "output_type": "stream",
     "text": [
      "2024-04-23 03:10:38.715556: I tensorflow/core/common_runtime/executor.cc:1197] [/device:CPU:0] (DEBUG INFO) Executor start aborting (this does not indicate an error and you can ignore this message): INVALID_ARGUMENT: You must feed a value for placeholder tensor 'Placeholder/_0' with dtype string and shape [1]\n",
      "\t [[{{node Placeholder/_0}}]]\n"
     ]
    }
   ],
   "source": [
    "for e in train_ds.skip(1).take(2):\n",
    "    print(e)"
   ]
  },
  {
   "cell_type": "code",
   "execution_count": 69,
   "metadata": {},
   "outputs": [],
   "source": [
    "def custom_standardization(input_data):\n",
    "  lowercase = tf.strings.lower(input_data)\n",
    "  stripped_html = tf.strings.regex_replace(lowercase, '<br />', ' ')\n",
    "  return tf.strings.regex_replace(stripped_html,\n",
    "                                  '[%s]' % re.escape(string.punctuation),\n",
    "                                  '')"
   ]
  },
  {
   "cell_type": "code",
   "execution_count": 76,
   "metadata": {},
   "outputs": [],
   "source": [
    "max_features = 10000\n",
    "sequence_length = 250\n",
    "\n",
    "vectorize_layer = tf.keras.layers.TextVectorization(\n",
    "    standardize=custom_standardization,\n",
    "    max_tokens=max_features,\n",
    "    output_mode='int',\n",
    "    output_sequence_length=sequence_length)"
   ]
  },
  {
   "cell_type": "code",
   "execution_count": 80,
   "metadata": {},
   "outputs": [],
   "source": [
    "# build vocabulary and save it to vocabulary.obj\n",
    "vocabulary = vectorize_layer.adapt(train_ds)\n",
    "vocab_file = open('vocabulary.obj','wb')\n",
    "pickle.dump(vocabulary,vocab_file)"
   ]
  },
  {
   "cell_type": "code",
   "execution_count": null,
   "metadata": {},
   "outputs": [],
   "source": [
    "# # for loading the vocabulary\n",
    "# vocab_file = open('vocabulary.obj','rb')\n",
    "# vocabulary = pickle.load(vocab_file)\n"
   ]
  },
  {
   "cell_type": "code",
   "execution_count": 81,
   "metadata": {},
   "outputs": [],
   "source": [
    "def vectorize_text(text, label):\n",
    "    text = tf.expand_dims(text, -1)\n",
    "    return vectorize_layer(text), label"
   ]
  },
  {
   "cell_type": "code",
   "execution_count": null,
   "metadata": {},
   "outputs": [],
   "source": []
  }
 ],
 "metadata": {
  "kernelspec": {
   "display_name": "Python 3",
   "language": "python",
   "name": "python3"
  },
  "language_info": {
   "codemirror_mode": {
    "name": "ipython",
    "version": 3
   },
   "file_extension": ".py",
   "mimetype": "text/x-python",
   "name": "python",
   "nbconvert_exporter": "python",
   "pygments_lexer": "ipython3",
   "version": "3.11.9"
  }
 },
 "nbformat": 4,
 "nbformat_minor": 2
}
