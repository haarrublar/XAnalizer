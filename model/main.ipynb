{
 "cells": [
  {
   "cell_type": "code",
   "execution_count": 228,
   "metadata": {},
   "outputs": [
    {
     "name": "stderr",
     "output_type": "stream",
     "text": [
      "[nltk_data] Downloading package stopwords to\n",
      "[nltk_data]     /home/haarrublar/nltk_data...\n",
      "[nltk_data]   Package stopwords is already up-to-date!\n"
     ]
    },
    {
     "data": {
      "text/plain": [
       "True"
      ]
     },
     "execution_count": 228,
     "metadata": {},
     "output_type": "execute_result"
    }
   ],
   "source": [
    "import zipfile\n",
    "import tensorflow as tf\n",
    "import pandas as pd\n",
    "import numpy as np\n",
    "import emoji\n",
    "import re\n",
    "import re\n",
    "import string\n",
    "import pickle\n",
    "import json\n",
    "import nltk\n",
    "nltk.download('stopwords')"
   ]
  },
  {
   "cell_type": "markdown",
   "metadata": {},
   "source": [
    "Let's get some dirt on our hands. Part of the preprocessing work that must be done is cleaning the data, and preparing it from the model. Here we received a twitter (now called x) dataset comments including messages categorized into three classes: Positive, Negative, and Neutral. Messages that are not relevant to the entity are considered Neutral. The goal is to judge the sentiment of the message regarding the specified entity.\n",
    "\n",
    "This dataset might be found in [here!](https://huggingface.co/datasets/yogiyulianto/twitter-sentiment-dataset-en).\n",
    "\n",
    "At first, we clean the data and pre-visualize some rows."
   ]
  },
  {
   "cell_type": "code",
   "execution_count": 229,
   "metadata": {},
   "outputs": [],
   "source": [
    "zip_path = './media/datasets/archive.zip'\n",
    "extract_dir = './media/datasets/csv/'\n",
    "vocabulary_dir = './media/vocabulary/'\n",
    "models_dir = './media/models/'\n",
    "\n",
    "with zipfile.ZipFile(zip_path, 'r') as zip_file:\n",
    "    zip_file.extractall(extract_dir)\n",
    "\n",
    "dataframe_train = pd.read_csv(extract_dir+'twitter_training.csv', names=['ID','user','SC','Comment'])\n",
    "dataframe_test = pd.read_csv(extract_dir+'twitter_validation.csv', names=['ID','user','SC','Comment'])"
   ]
  },
  {
   "cell_type": "markdown",
   "metadata": {},
   "source": [
    "The data looks as follows:"
   ]
  },
  {
   "cell_type": "code",
   "execution_count": 230,
   "metadata": {},
   "outputs": [
    {
     "data": {
      "text/html": [
       "<div>\n",
       "<style scoped>\n",
       "    .dataframe tbody tr th:only-of-type {\n",
       "        vertical-align: middle;\n",
       "    }\n",
       "\n",
       "    .dataframe tbody tr th {\n",
       "        vertical-align: top;\n",
       "    }\n",
       "\n",
       "    .dataframe thead th {\n",
       "        text-align: right;\n",
       "    }\n",
       "</style>\n",
       "<table border=\"1\" class=\"dataframe\">\n",
       "  <thead>\n",
       "    <tr style=\"text-align: right;\">\n",
       "      <th></th>\n",
       "      <th>ID</th>\n",
       "      <th>user</th>\n",
       "      <th>SC</th>\n",
       "      <th>Comment</th>\n",
       "    </tr>\n",
       "  </thead>\n",
       "  <tbody>\n",
       "    <tr>\n",
       "      <th>1250</th>\n",
       "      <td>2619</td>\n",
       "      <td>Borderlands</td>\n",
       "      <td>Positive</td>\n",
       "      <td>i maed dis bc i love maya (the siren) and im v...</td>\n",
       "    </tr>\n",
       "    <tr>\n",
       "      <th>1251</th>\n",
       "      <td>2619</td>\n",
       "      <td>Borderlands</td>\n",
       "      <td>Positive</td>\n",
       "      <td>i do dis bc i am maya (the siren) and im very ...</td>\n",
       "    </tr>\n",
       "    <tr>\n",
       "      <th>1252</th>\n",
       "      <td>2619</td>\n",
       "      <td>Borderlands</td>\n",
       "      <td>Positive</td>\n",
       "      <td>i maed is dis bc i love maya ( the siren ) and...</td>\n",
       "    </tr>\n",
       "    <tr>\n",
       "      <th>1253</th>\n",
       "      <td>2619</td>\n",
       "      <td>Borderlands</td>\n",
       "      <td>Positive</td>\n",
       "      <td>i maed dis bc i love the (the beautiful) girl ...</td>\n",
       "    </tr>\n",
       "    <tr>\n",
       "      <th>1254</th>\n",
       "      <td>2620</td>\n",
       "      <td>Borderlands</td>\n",
       "      <td>Positive</td>\n",
       "      <td>A reimagining of the Keep on the Borderlands. ...</td>\n",
       "    </tr>\n",
       "    <tr>\n",
       "      <th>1255</th>\n",
       "      <td>2620</td>\n",
       "      <td>Borderlands</td>\n",
       "      <td>Positive</td>\n",
       "      <td>And he also makes the caves of chaos! This stu...</td>\n",
       "    </tr>\n",
       "    <tr>\n",
       "      <th>1256</th>\n",
       "      <td>2620</td>\n",
       "      <td>Borderlands</td>\n",
       "      <td>Positive</td>\n",
       "      <td>And he's also doing \"The Eagles\"! This stuff w...</td>\n",
       "    </tr>\n",
       "  </tbody>\n",
       "</table>\n",
       "</div>"
      ],
      "text/plain": [
       "        ID         user        SC  \\\n",
       "1250  2619  Borderlands  Positive   \n",
       "1251  2619  Borderlands  Positive   \n",
       "1252  2619  Borderlands  Positive   \n",
       "1253  2619  Borderlands  Positive   \n",
       "1254  2620  Borderlands  Positive   \n",
       "1255  2620  Borderlands  Positive   \n",
       "1256  2620  Borderlands  Positive   \n",
       "\n",
       "                                                Comment  \n",
       "1250  i maed dis bc i love maya (the siren) and im v...  \n",
       "1251  i do dis bc i am maya (the siren) and im very ...  \n",
       "1252  i maed is dis bc i love maya ( the siren ) and...  \n",
       "1253  i maed dis bc i love the (the beautiful) girl ...  \n",
       "1254  A reimagining of the Keep on the Borderlands. ...  \n",
       "1255  And he also makes the caves of chaos! This stu...  \n",
       "1256  And he's also doing \"The Eagles\"! This stuff w...  "
      ]
     },
     "execution_count": 230,
     "metadata": {},
     "output_type": "execute_result"
    }
   ],
   "source": [
    "dataframe_train.iloc[1250:1257]"
   ]
  },
  {
   "cell_type": "markdown",
   "metadata": {},
   "source": [
    "So, we can start categorizing the data frames by positive and negative categories for now. In a next proposal, would it be good idea to perform a classification \n",
    "including not binary outputs but more aleatory categorization. Additionally, we drop unnecessary columns such as 'ID','user'."
   ]
  },
  {
   "cell_type": "code",
   "execution_count": 231,
   "metadata": {},
   "outputs": [],
   "source": [
    "def dropRowValue(dataframe,column,values):\n",
    "    return dataframe[~dataframe[column].isin(values)]\n",
    "\n",
    "def sentimentFilter(sentence, category):\n",
    "    \"\"\"\n",
    "    By default the category entered to the sentimentFilter function will be transformed to 1\n",
    "    \"\"\"\n",
    "    sentiment_num_list = []\n",
    "    for sentiment in sentence:\n",
    "        if sentiment == category:\n",
    "            sentiment_num_list.append(1)\n",
    "        else:\n",
    "            sentiment_num_list.append(0)\n",
    "    return sentiment_num_list\n",
    "\n",
    "# training\n",
    "filter_dataframe_train = dropRowValue(dataframe_train,'SC',['Neutral','Irrelevant']).drop(['ID','user'], axis=1)\n",
    "list_x_train = filter_dataframe_train['Comment'].to_list()\n",
    "list_y_train = filter_dataframe_train['SC'].to_list()\n",
    "y_train = sentimentFilter(list_y_train,'Positive')\n",
    "\n",
    "# testing\n",
    "filter_dataframe_test = dropRowValue(dataframe_test,'SC',['Neutral','Irrelevant']).drop(['ID','user'], axis=1)\n",
    "list_x_test = filter_dataframe_test['Comment'].to_list()\n",
    "list_y_test = filter_dataframe_test['SC'].to_list()\n",
    "y_test = sentimentFilter(list_y_test,'Positive')"
   ]
  },
  {
   "cell_type": "markdown",
   "metadata": {},
   "source": [
    "I do believe there is a huge importance in the emojis significance in daily dialectic where 59% of consumers aged 18-34 believe companies use too many emojis. 51% of survey respondents said they're likely to engage with a brand's posts if they include emojis. 63% of people think positive emoji usage increases your credibility. 92% of online consumers use emojis every day.\n",
    "\n",
    "Here I introduce the emoji MASK. Basically, adding a MASK strategy as used in tensors to the emojis over all the training data for improving the accuracy. Doing so, the data will not perceive the unicode text but the emotion text which is given by the emoji translation to text expression. There are another approached to this same problematic such as training the model for identifying the emoji and converting it into an emotion which might be interesting. Nevertheless, the idea is generating the less time complex simple model for solving this issue with the help of python. \n",
    "\n",
    "This remembers me once at sentiment analysis competition at UTRGV. Our team decided to go for BERT sentiment analysis strategy which lead to a high computational effort. On the other hand, one of our competitors, whom finally win by 2% more accuracy used statistical approach using hyperparameter tunning using GridSearchCV which was ~70% less computational complex than running a pre-trained LLM model by ~60% less time investment. "
   ]
  },
  {
   "cell_type": "code",
   "execution_count": 2,
   "metadata": {},
   "outputs": [
    {
     "data": {
      "text/plain": [
       "\"Hello! \\\\N{BLACK SUN WITH RAYS}\\\\N{VARIATION SELECTOR-16} I'm currently enjoying a beautiful day on a tropical island \\\\N{DESERT ISLAND}\\\\N{VARIATION SELECTOR-16} while practicing some yoga \\\\N{PERSON IN LOTUS POSITION}\\\\N{ZERO WIDTH JOINER}\\\\N{MALE SIGN}\\\\N{VARIATION SELECTOR-16} and sipping on a refreshing watermelon juice \\\\N{WATERMELON}\\\\N{TROPICAL DRINK}. The sound of the waves \\\\N{WATER WAVE} and the warmth of the sun \\\\N{BLACK SUN WITH RAYS}\\\\N{VARIATION SELECTOR-16} make it the perfect day to relax in my swimsuit \\\\N{BIKINI} and listen to the birds \\\\N{PARROT} singing in the palm trees \\\\N{PALM TREE}. Don't forget your sunglasses \\\\N{DARK SUNGLASSES}\\\\N{VARIATION SELECTOR-16}!\""
      ]
     },
     "execution_count": 2,
     "metadata": {},
     "output_type": "execute_result"
    }
   ],
   "source": [
    "import emoji\n",
    "\n",
    "emoji.replace_emoji(\"Hello! ☀️ I'm currently enjoying a beautiful day on a tropical island 🏝️ while practicing some yoga 🧘‍♂️ and sipping on a refreshing watermelon juice 🍉🍹. The sound of the waves 🌊 and the warmth of the sun ☀️ make it the perfect day to relax in my swimsuit 👙 and listen to the birds 🦜 singing in the palm trees 🌴. Don't forget your sunglasses 🕶️!\",\n",
    "                        replace=lambda chars,\n",
    "                        data_dict: chars.encode('ascii', 'namereplace').decode())"
   ]
  },
  {
   "cell_type": "code",
   "execution_count": 232,
   "metadata": {},
   "outputs": [],
   "source": [
    "def emojiMask(sentence):\n",
    "    emoji_mask_sentence = emoji.replace_emoji(sentence,\n",
    "                        replace=lambda chars,\n",
    "                        data_dict: chars.encode('ascii', 'namereplace').decode())\n",
    "    emoji_mask_sentence = re.sub(r\"\\\\N\\{(.+?)\\}\", r\"\\1\", emoji_mask_sentence)\n",
    "    return emoji_mask_sentence\n",
    "\n",
    "\n",
    "x_train_emojimask = [emojiMask(str(row)) for row in list_x_train]\n",
    "x_test_emojimask = [emojiMask(str(row)) for row in list_x_test]"
   ]
  },
  {
   "cell_type": "markdown",
   "metadata": {},
   "source": [
    "How does the _emojiMask_ function work? Well, consider:"
   ]
  },
  {
   "cell_type": "code",
   "execution_count": 233,
   "metadata": {},
   "outputs": [
    {
     "data": {
      "text/plain": [
       "\"Hello! BLACK SUN WITH RAYSVARIATION SELECTOR-16 I'm currently enjoying a beautiful day on a tropical island DESERT ISLANDVARIATION SELECTOR-16 while practicing some yoga PERSON IN LOTUS POSITIONZERO WIDTH JOINERMALE SIGNVARIATION SELECTOR-16 and sipping on a refreshing watermelon juice WATERMELONTROPICAL DRINK. The sound of the waves WATER WAVE and the warmth of the sun BLACK SUN WITH RAYSVARIATION SELECTOR-16 make it the perfect day to relax in my swimsuit BIKINI and listen to the birds PARROT singing in the palm trees PALM TREE. Don't forget your sunglasses DARK SUNGLASSESVARIATION SELECTOR-16!\""
      ]
     },
     "execution_count": 233,
     "metadata": {},
     "output_type": "execute_result"
    }
   ],
   "source": [
    "emojiMask(\"Hello! ☀️ I'm currently enjoying a beautiful day on a tropical island 🏝️ while practicing some yoga 🧘‍♂️ and sipping on a refreshing watermelon juice 🍉🍹. The sound of the waves 🌊 and the warmth of the sun ☀️ make it the perfect day to relax in my swimsuit 👙 and listen to the birds 🦜 singing in the palm trees 🌴. Don't forget your sunglasses 🕶️!\")"
   ]
  },
  {
   "cell_type": "markdown",
   "metadata": {},
   "source": [
    "In case, there is a stopwords removal just use nltk package together with the following function:\n",
    "\n",
    "```python\n",
    "def cleanSentence(sentence, stopwords=True):\n",
    "    stopwords_vocabulary = nltk.corpus.stopwords.words('english')\n",
    "    stopwords_pattern = r'\\b(?:' + '\\s*|'.join(map(re.escape, stopwords_vocabulary)) + r')\\b' if stopwords else ''\n",
    "    lower_sentence = sentence.lower()\n",
    "    clean_sentence = re.sub(stopwords_pattern + r'|[^\\w\\s]', '', lower_sentence)\n",
    "    return clean_sentence\n",
    "```"
   ]
  },
  {
   "cell_type": "code",
   "execution_count": 234,
   "metadata": {},
   "outputs": [],
   "source": [
    "def cleanSentence(sentence, stopwords=True):\n",
    "    stopwords_vocabulary = nltk.corpus.stopwords.words('english')\n",
    "    stopwords_pattern = r'\\b(?:' + '\\s*|'.join(map(re.escape, stopwords_vocabulary)) + r')\\b' if stopwords else ''\n",
    "    # clean_sentence = re.sub(stopwords_pattern + r'|[^\\w\\s]', '', sentence)\n",
    "    lower_sentence = sentence.lower()\n",
    "    clean_sentence = re.sub(stopwords_pattern + r'|[^\\w\\s]', '', lower_sentence)\n",
    "    return clean_sentence\n",
    "\n",
    "\n",
    "x_train_clean = [cleanSentence(row) for row in x_train_emojimask]\n",
    "x_test_clean = [cleanSentence(row) for row in x_test_emojimask]"
   ]
  },
  {
   "cell_type": "markdown",
   "metadata": {},
   "source": [
    "On Tensorflow, the inputs in the model might be set-up before. Using the pre-loaded models from tensorflow datasets it is quite easier running a model because of the tensors structure is already configure for this purpose. Here, I decided to transform all data into lists, and from lists to tensors.\n",
    "\n",
    "Additionally, we prepare the datasets for training and testing the final model. The `shuffle` function randomizes the dataset to prevent the model from learning the order of the data. The `batch` function divides the shuffled dataset into batches, improving training speed and efficiency by allowing the model to process multiple samples at once, and the `prefetch` function prefetches data to overlap preprocessing and model execution, reducing training time."
   ]
  },
  {
   "cell_type": "code",
   "execution_count": 236,
   "metadata": {},
   "outputs": [],
   "source": [
    "BUFFER_SIZE = 10000\n",
    "BATCH_SIZE = 64\n",
    "\n",
    "# tensor vector for model\n",
    "def trainTensorSlice(xlist,ylist):\n",
    "    x_tensor = tf.constant(xlist)\n",
    "    y_tensor = tf.constant(ylist)\n",
    "    dataset_tensor = tf.data.Dataset.from_tensor_slices((x_tensor,y_tensor)) # no batching, the batching will be later on\n",
    "    return dataset_tensor\n",
    "\n",
    "train_ds = trainTensorSlice(x_train_clean,y_train)\n",
    "test_ds = trainTensorSlice(x_test_clean,y_test)\n",
    "\n",
    "\n",
    "train_dataset = train_ds.shuffle(BUFFER_SIZE).batch(BATCH_SIZE).prefetch(tf.data.AUTOTUNE)\n",
    "test_dataset = test_ds.shuffle(BUFFER_SIZE).batch(BATCH_SIZE).prefetch(tf.data.AUTOTUNE)"
   ]
  },
  {
   "cell_type": "markdown",
   "metadata": {},
   "source": [
    "I started using the simplest model found on Tensorflow website, specifically the [issue](https://github.com/tensorflow/text/issues/174) were there is a description about the creation of a vocabulary using `tf.lookup.KeyValueTensorInitializer`. Then I realized that if the tokenization needs are simple and the vocabulary is small and static, the approach using `StaticVocabularyTable` can work efficiently. However, there are more complex tokenization needs or dynamic vocabularies, using a higher-level API like `TextVectorization` a text encoder might be more appropriate. These higher-level APIs offer more flexibility and are easier to integrate into TensorFlow models, making them suitable for a wider range of tokenization tasks.\n",
    "\n",
    "Although, I highly encourage to use the `tf.lookup.KeyValueTensorInitializer` which provides a deep insight about Tensorflow models."
   ]
  },
  {
   "cell_type": "code",
   "execution_count": 237,
   "metadata": {},
   "outputs": [
    {
     "name": "stderr",
     "output_type": "stream",
     "text": [
      "2024-04-25 13:29:27.084123: I tensorflow/core/common_runtime/executor.cc:1197] [/device:CPU:0] (DEBUG INFO) Executor start aborting (this does not indicate an error and you can ignore this message): INVALID_ARGUMENT: You must feed a value for placeholder tensor 'Placeholder/_0' with dtype string and shape [43374]\n",
      "\t [[{{node Placeholder/_0}}]]\n",
      "2024-04-25 13:29:27.084555: I tensorflow/core/common_runtime/executor.cc:1197] [/device:CPU:0] (DEBUG INFO) Executor start aborting (this does not indicate an error and you can ignore this message): INVALID_ARGUMENT: You must feed a value for placeholder tensor 'Placeholder/_0' with dtype string and shape [43374]\n",
      "\t [[{{node Placeholder/_0}}]]\n"
     ]
    }
   ],
   "source": [
    "VOCAB_SIZE = 2000\n",
    "SEQUENCE_LENGTH = 100\n",
    "\n",
    "encoder = tf.keras.layers.TextVectorization(max_tokens=VOCAB_SIZE,\n",
    "                                            output_mode='int',\n",
    "                                            output_sequence_length=SEQUENCE_LENGTH)\n",
    "\n",
    "\n",
    "encoder.adapt(train_dataset.map(lambda text, label: text))"
   ]
  },
  {
   "cell_type": "markdown",
   "metadata": {},
   "source": [
    "### start example\n",
    "\n",
    "Generate a vocabulary out of the training dataset and de-gerenate it"
   ]
  },
  {
   "cell_type": "code",
   "execution_count": 143,
   "metadata": {},
   "outputs": [
    {
     "name": "stdout",
     "output_type": "stream",
     "text": [
      "text:  [b'running win xbox series x thanks billz  achievementland chindocta  realgamerscore gleamiopcfsnreal'\n",
      " b'find   twomad played  plays dota 2 makes happy'\n",
      " b'n b still ordering shit amazon piece shit blood hands'\n",
      " b'19 continuing past endeavors bringing immense publicity bullshit unfinished game  movie company fuckimg integrity making priority game release decent game despite money get game costs vc alone 2 immense embarrassment nba2k ronnie2k 2k httpsconpyltg9whb '\n",
      " b'right' b'give game already beautiful man  davidvonderhaar' b''\n",
      " b'fix guarding corner please nba2k literally ball guard get open everytime'\n",
      " b'borderlands 3 amazing twitchtvnightshade1245_'\n",
      " b'want 5 xbox x   get real happy' b'beautiful clean'\n",
      " b'congratulations  n2k somehow manage make game worse ever'\n",
      " b'proud list hired yes work hard evil ask l10   amazon'\n",
      " b'sometimes look overwatch see dead horse surrounded bunch guys suits beating stick xd used adore game seriously dead still playing time time tho  '\n",
      " b'aye amazon really running shit lmfao bullying congress tlkn bout niggas year make rules keep wana  scared jeff bezos lol nigga different af'\n",
      " b'honestly looks smarter smarter design xbox series x guys think x right choice  intrigued'\n",
      " b'deleted games make room borderlands 3' b''\n",
      " b' amazon prime videos version   '\n",
      " b'black market cold war zombies fucking hype'\n",
      " b'eat egg hate dota 2  casey'\n",
      " b'tons tons quality life improvements everywhere  painful see writing taken massive hit continues disrespect balance borderlands universe storytelling said characters'\n",
      " b'mad respect nba2k   pictwittercomsflcqqqjmh'\n",
      " b' da2 fix game please god match broken clicked entry instead got 24hour ban getting hero selection'\n",
      " b'bet pretty badass' b'finally thankunk nba2k_myteam'\n",
      " b'whole year last year legit pleasure working  2k_anz  pez_bro custom borderlands themed playstationau 4  oh time would love work brand sureee still one favourite jobs  poscauk pictwittercomln9snb7jsn'\n",
      " b'10 games failed start  d2 tore apart' b'interesting'\n",
      " b'seen say dirt 5 old series x game multiplat ok looks hotter forza motorsport 4 360  tlou2 game made 18 g system arguably looks better spiderman miles morales  design exclusivity packaging matters people httpsco5x0qtmpkpb'\n",
      " b'nba2k shitty ass fucking update update shit ass nothing already '\n",
      " b'amazing things much black dragon ops allowed content technological changes wise much information   getting overwatch 2 us 1 cinematic'\n",
      " b'nan'\n",
      " b' yall think marie dame shoulda next good gen zion current gen buying big shit'\n",
      " b' d2  steam file match   accept found match   game shows reconnect  abandon option nothing happens try reconnect   1min kinds disabled matchmaking'\n",
      " b'letfucking go  flexecution1' b'unk'\n",
      " b'huskar hero dota 2 never handle ass matter '\n",
      " b'bl3 using girl fire end credits reminds gonna quit borderlands forever'\n",
      " b' nba2k nba store still work'\n",
      " b'okay gonna say  black ops cold war actually looks dope'\n",
      " b'fuck overwatch'\n",
      " b'bounty harvesting blood dlc borderlands 3 day fun glad got stuck finish tonight tomorrow dlc'\n",
      " b'amazon still shipping good time send gifts people stuck house young children drum kits dictators violins etc perfect part homework plus come slap face least 3 weeks'\n",
      " b'borderlands 3 good far borderlands 2 always fav'\n",
      " b'tfw save ps5 legit nowhere left preorder pictwittercom7vmlkqokq9'\n",
      " b'gearboxofficial borderlands absolutely love    game spent 325hrs beating game twice farming like crazy get weapons anoints want decide way w playing way intended totally weaken favorite anoint'\n",
      " b'someone needs held accountable atrocities thread nba2k ld2k ronnie2k beluba'\n",
      " b'dear  valvesoftware  dota2 hell many smurf accounts hell always get stupidest teammate time'\n",
      " b'ugh remember staring lina drooling days even made  finished screensaver look freaking good'\n",
      " b'perfect timing right eyes'\n",
      " b'remember eb games could perhaps learnt lesson ps5 launch xbox n x much half give shit  neither visitors microsoft happily stick bots unless means guaranteed income '\n",
      " b'sad' b' nba2k_myteam  nba2k gameplay one bad' b'hell'\n",
      " b'valvesoftware dota2 wtf friend played 4 games tonight played 11 winning 7 got common courier friend got 63 items total single drop fuck shit love anymore'\n",
      " b'music plays little snippet cold warblackwhite campaign actually good fits mood making film'\n",
      " b'cuties wanted' b'nba2k_myteam fuck '\n",
      " b'feel terrible like overwatch time'\n",
      " b'  probably gonna need couple pink diamond moments  nba2k_myteam unk'\n",
      " b'nba2k_myteam really hate game spent 500 got victor twice fuck  ronnie2k fuck 2k buying next one paying bullshit game'\n",
      " b'wtf' b'breakfast time']\n",
      "label:  [1 1 0 0 1 1 1 0 1 0 1 0 0 0 0 1 1 0 0 0 0 1 1 0 1 1 1 0 1 0 0 0 0 0 0 1 1\n",
      " 0 0 0 1 0 1 1 1 0 0 0 0 1 1 0 0 0 0 0 1 1 0 1 1 0 0 1]\n"
     ]
    },
    {
     "name": "stderr",
     "output_type": "stream",
     "text": [
      "2024-04-25 12:01:58.189120: I tensorflow/core/common_runtime/executor.cc:1197] [/device:CPU:0] (DEBUG INFO) Executor start aborting (this does not indicate an error and you can ignore this message): INVALID_ARGUMENT: You must feed a value for placeholder tensor 'Placeholder/_0' with dtype string and shape [43374]\n",
      "\t [[{{node Placeholder/_0}}]]\n",
      "2024-04-25 12:01:58.189502: I tensorflow/core/common_runtime/executor.cc:1197] [/device:CPU:0] (DEBUG INFO) Executor start aborting (this does not indicate an error and you can ignore this message): INVALID_ARGUMENT: You must feed a value for placeholder tensor 'Placeholder/_0' with dtype string and shape [43374]\n",
      "\t [[{{node Placeholder/_0}}]]\n"
     ]
    }
   ],
   "source": [
    "for example, label in train_dataset.take(1):\n",
    "  print('text: ', example.numpy())\n",
    "  print('label: ', label.numpy())"
   ]
  },
  {
   "cell_type": "code",
   "execution_count": 144,
   "metadata": {},
   "outputs": [
    {
     "data": {
      "text/plain": [
       "array([[ 424,  266,   34,   93,  102,   94,    1,    1,    1,    1,    1,\n",
       "           0,    0,    0,    0,    0,    0,    0,    0,    0,    0,    0,\n",
       "           0,    0,    0,    0,    0,    0,    0,    0,    0,    0,    0,\n",
       "           0,    0,    0,    0,    0,    0,    0,    0,    0,    0,    0,\n",
       "           0,    0,    0,    0,    0,    0,    0,    0,    0,    0,    0,\n",
       "           0,    0,    0,    0,    0,    0,    0,    0,    0,    0,    0,\n",
       "           0,    0,    0,    0,    0,    0,    0,    0,    0,    0,    0,\n",
       "           0,    0,    0,    0,    0,    0,    0,    0,    0,    0,    0,\n",
       "           0,    0,    0,    0,    0,    0,    0,    0,    0,    0,    0,\n",
       "           0],\n",
       "       [ 257,    1,   83,  729,  271,    8,  180,   99,    0,    0,    0,\n",
       "           0,    0,    0,    0,    0,    0,    0,    0,    0,    0,    0,\n",
       "           0,    0,    0,    0,    0,    0,    0,    0,    0,    0,    0,\n",
       "           0,    0,    0,    0,    0,    0,    0,    0,    0,    0,    0,\n",
       "           0,    0,    0,    0,    0,    0,    0,    0,    0,    0,    0,\n",
       "           0,    0,    0,    0,    0,    0,    0,    0,    0,    0,    0,\n",
       "           0,    0,    0,    0,    0,    0,    0,    0,    0,    0,    0,\n",
       "           0,    0,    0,    0,    0,    0,    0,    0,    0,    0,    0,\n",
       "           0,    0,    0,    0,    0,    0,    0,    0,    0,    0,    0,\n",
       "           0],\n",
       "       [ 604,  733,   14,    1,   12,   79,  776,   12, 1508, 1160,    0,\n",
       "           0,    0,    0,    0,    0,    0,    0,    0,    0,    0,    0,\n",
       "           0,    0,    0,    0,    0,    0,    0,    0,    0,    0,    0,\n",
       "           0,    0,    0,    0,    0,    0,    0,    0,    0,    0,    0,\n",
       "           0,    0,    0,    0,    0,    0,    0,    0,    0,    0,    0,\n",
       "           0,    0,    0,    0,    0,    0,    0,    0,    0,    0,    0,\n",
       "           0,    0,    0,    0,    0,    0,    0,    0,    0,    0,    0,\n",
       "           0,    0,    0,    0,    0,    0,    0,    0,    0,    0,    0,\n",
       "           0,    0,    0,    0,    0,    0,    0,    0,    0,    0,    0,\n",
       "           0]])"
      ]
     },
     "execution_count": 144,
     "metadata": {},
     "output_type": "execute_result"
    }
   ],
   "source": [
    "encoded_example = encoder(example)[:3].numpy()\n",
    "encoded_example"
   ]
  },
  {
   "cell_type": "code",
   "execution_count": 145,
   "metadata": {},
   "outputs": [
    {
     "name": "stdout",
     "output_type": "stream",
     "text": [
      "Original:  b'running win xbox series x thanks billz  achievementland chindocta  realgamerscore gleamiopcfsnreal'\n"
     ]
    },
    {
     "ename": "NameError",
     "evalue": "name 'vocab' is not defined",
     "output_type": "error",
     "traceback": [
      "\u001b[0;31m---------------------------------------------------------------------------\u001b[0m",
      "\u001b[0;31mNameError\u001b[0m                                 Traceback (most recent call last)",
      "Cell \u001b[0;32mIn[145], line 3\u001b[0m\n\u001b[1;32m      1\u001b[0m \u001b[38;5;28;01mfor\u001b[39;00m n \u001b[38;5;129;01min\u001b[39;00m \u001b[38;5;28mrange\u001b[39m(\u001b[38;5;241m3\u001b[39m):\n\u001b[1;32m      2\u001b[0m   \u001b[38;5;28mprint\u001b[39m(\u001b[38;5;124m\"\u001b[39m\u001b[38;5;124mOriginal: \u001b[39m\u001b[38;5;124m\"\u001b[39m, example[n]\u001b[38;5;241m.\u001b[39mnumpy())\n\u001b[0;32m----> 3\u001b[0m   \u001b[38;5;28mprint\u001b[39m(\u001b[38;5;124m\"\u001b[39m\u001b[38;5;124mRound-trip: \u001b[39m\u001b[38;5;124m\"\u001b[39m, \u001b[38;5;124m\"\u001b[39m\u001b[38;5;124m \u001b[39m\u001b[38;5;124m\"\u001b[39m\u001b[38;5;241m.\u001b[39mjoin(\u001b[43mvocab\u001b[49m[encoded_example[n]]))\n\u001b[1;32m      4\u001b[0m   \u001b[38;5;28mprint\u001b[39m()\n",
      "\u001b[0;31mNameError\u001b[0m: name 'vocab' is not defined"
     ]
    }
   ],
   "source": [
    "for n in range(3):\n",
    "  print(\"Original: \", example[n].numpy())\n",
    "  print(\"Round-trip: \", \" \".join(vocab[encoded_example[n]]))\n",
    "  print()"
   ]
  },
  {
   "cell_type": "markdown",
   "metadata": {},
   "source": [
    "### End example"
   ]
  },
  {
   "cell_type": "markdown",
   "metadata": {},
   "source": [
    "This introductory model offers simplicity and efficiency through its straightforward architecture and use of a pre-trained `TextVectorization` layer. It benefits from the ability to handle variable-length sequences and capture long-range dependencies, thanks to the `mask_zero=True` and `Bidirectional LSTM` layers. However, its simplicity comes at the cost of limited complexity, which may hinder its performance on tasks requiring nuanced language understanding. Additionally, its relatively large number of parameters could lead to overfitting, particularly on smaller datasets, and its complexity might reduce interpretability and ease of debugging, especially for more complex tokenization and language processing needs.\n",
    "\n",
    "In this case the database used is quite good for avoiding overfitting. In case you might want to explore any other type of vocabularies sizes which might be a good learning experience. That will demonstrate for example that some sizes induce to overfitting. For loading extra vocabularies:\n",
    "\n",
    "```python\n",
    "vocabulary_file = open(vocabulary_dir+'vocabulary2T.obj', 'rb')\n",
    "loaded_vocabulary = pickle.load(vocabulary_file)\n",
    "encoder.set_vocabulary(loaded_vocabulary)\n",
    "```"
   ]
  },
  {
   "cell_type": "code",
   "execution_count": 256,
   "metadata": {},
   "outputs": [],
   "source": [
    "model = tf.keras.Sequential([\n",
    "    encoder,\n",
    "    tf.keras.layers.Embedding(\n",
    "        input_dim=len(encoder.get_vocabulary()),\n",
    "        output_dim=64,\n",
    "        mask_zero=True),\n",
    "    tf.keras.layers.Bidirectional(tf.keras.layers.LSTM(64)),\n",
    "    tf.keras.layers.Dense(64, activation='relu'),\n",
    "    tf.keras.layers.Dense(1)\n",
    "])"
   ]
  },
  {
   "cell_type": "markdown",
   "metadata": {},
   "source": [
    "If we use the sigmoid activation function as the output layer in our model, converting logits (raw model outputs) to probabilities, the loss function should typically not have `from_logits=True`. This parameter is used with the `BinaryCrossentropy` loss when the model outputs raw logits and the labels are in the range [0, 1]. Since the sigmoid activation already squashes the logits to [0, 1] range, using `from_logits=False` is appropriate, allowing the loss function to interpret the model's output as probabilities directly."
   ]
  },
  {
   "cell_type": "code",
   "execution_count": 257,
   "metadata": {},
   "outputs": [],
   "source": [
    "model.compile(loss=tf.keras.losses.BinaryCrossentropy(from_logits=True),\n",
    "              optimizer=tf.keras.optimizers.Adam(1e-4),\n",
    "              metrics=['accuracy'])"
   ]
  },
  {
   "cell_type": "code",
   "execution_count": 258,
   "metadata": {},
   "outputs": [
    {
     "name": "stdout",
     "output_type": "stream",
     "text": [
      "Model: \"sequential_4\"\n",
      "_________________________________________________________________\n",
      " Layer (type)                Output Shape              Param #   \n",
      "=================================================================\n",
      " text_vectorization_4 (TextV  (None, 100)              0         \n",
      " ectorization)                                                   \n",
      "                                                                 \n",
      " embedding_4 (Embedding)     (None, 100, 64)           128000    \n",
      "                                                                 \n",
      " bidirectional_4 (Bidirectio  (None, 128)              66048     \n",
      " nal)                                                            \n",
      "                                                                 \n",
      " dense_8 (Dense)             (None, 64)                8256      \n",
      "                                                                 \n",
      " dense_9 (Dense)             (None, 1)                 65        \n",
      "                                                                 \n",
      "=================================================================\n",
      "Total params: 202,369\n",
      "Trainable params: 202,369\n",
      "Non-trainable params: 0\n",
      "_________________________________________________________________\n"
     ]
    }
   ],
   "source": [
    "model.summary()"
   ]
  },
  {
   "cell_type": "code",
   "execution_count": 259,
   "metadata": {},
   "outputs": [
    {
     "name": "stdout",
     "output_type": "stream",
     "text": [
      "Epoch 1/15\n"
     ]
    },
    {
     "name": "stderr",
     "output_type": "stream",
     "text": [
      "2024-04-25 15:27:30.243575: I tensorflow/core/common_runtime/executor.cc:1197] [/device:CPU:0] (DEBUG INFO) Executor start aborting (this does not indicate an error and you can ignore this message): INVALID_ARGUMENT: You must feed a value for placeholder tensor 'gradients/ReverseV2_grad/ReverseV2/ReverseV2/axis' with dtype int32 and shape [1]\n",
      "\t [[{{node gradients/ReverseV2_grad/ReverseV2/ReverseV2/axis}}]]\n",
      "2024-04-25 15:27:33.576254: I tensorflow/core/common_runtime/executor.cc:1197] [/device:CPU:0] (DEBUG INFO) Executor start aborting (this does not indicate an error and you can ignore this message): INVALID_ARGUMENT: You must feed a value for placeholder tensor 'gradients/ReverseV2_grad/ReverseV2/ReverseV2/axis' with dtype int32 and shape [1]\n",
      "\t [[{{node gradients/ReverseV2_grad/ReverseV2/ReverseV2/axis}}]]\n"
     ]
    },
    {
     "name": "stdout",
     "output_type": "stream",
     "text": [
      "678/678 - 71s - loss: 0.5416 - accuracy: 0.6608 - 71s/epoch - 105ms/step\n",
      "Epoch 2/15\n",
      "678/678 - 63s - loss: 0.3754 - accuracy: 0.8232 - 63s/epoch - 93ms/step\n",
      "Epoch 3/15\n",
      "678/678 - 63s - loss: 0.3404 - accuracy: 0.8389 - 63s/epoch - 93ms/step\n",
      "Epoch 4/15\n",
      "678/678 - 61s - loss: 0.3242 - accuracy: 0.8480 - 61s/epoch - 90ms/step\n",
      "Epoch 5/15\n",
      "678/678 - 61s - loss: 0.3137 - accuracy: 0.8524 - 61s/epoch - 89ms/step\n",
      "Epoch 6/15\n",
      "678/678 - 62s - loss: 0.3020 - accuracy: 0.8576 - 62s/epoch - 91ms/step\n",
      "Epoch 7/15\n",
      "678/678 - 62s - loss: 0.2865 - accuracy: 0.8654 - 62s/epoch - 92ms/step\n",
      "Epoch 8/15\n",
      "678/678 - 60s - loss: 0.2705 - accuracy: 0.8733 - 60s/epoch - 89ms/step\n",
      "Epoch 9/15\n",
      "678/678 - 63s - loss: 0.2545 - accuracy: 0.8802 - 63s/epoch - 93ms/step\n",
      "Epoch 10/15\n",
      "678/678 - 62s - loss: 0.2407 - accuracy: 0.8875 - 62s/epoch - 92ms/step\n",
      "Epoch 11/15\n",
      "678/678 - 62s - loss: 0.2278 - accuracy: 0.8943 - 62s/epoch - 92ms/step\n",
      "Epoch 12/15\n",
      "678/678 - 61s - loss: 0.2179 - accuracy: 0.8977 - 61s/epoch - 90ms/step\n",
      "Epoch 13/15\n",
      "678/678 - 62s - loss: 0.2088 - accuracy: 0.9029 - 62s/epoch - 91ms/step\n",
      "Epoch 14/15\n",
      "678/678 - 61s - loss: 0.2017 - accuracy: 0.9063 - 61s/epoch - 90ms/step\n",
      "Epoch 15/15\n",
      "678/678 - 64s - loss: 0.1959 - accuracy: 0.9087 - 64s/epoch - 94ms/step\n"
     ]
    }
   ],
   "source": [
    "history = model.fit(train_dataset, \n",
    "                    epochs=15,\n",
    "                    verbose=2)"
   ]
  },
  {
   "cell_type": "markdown",
   "metadata": {},
   "source": [
    "Here we save the model. According to the docs it might be saved using the `save` method. Since your model contains a `TextVectorization` layer, which has non-tf.Variable weights, we should use the TensorFlow format _(save_format='tf')_ instead of the HDF5 format (save_format='h5'). Additionally, `tf.keras.models.load_model` will load the model checkpoints, weights and complete features for being used without training the model again.\n",
    "\n",
    "Additionally, as the history object returned by `model.fit()` is not directly serializable we can not use `model.save(save_format='tf)` command but instead we use `pickle` package to save it and load it by the `pickle.dump()` method.\n",
    "\n",
    "- For saving:\n",
    "\n",
    "    ```python\n",
    "    model.save('./media/models/2T/model2T_15e/', save_format='tf')\n",
    "\n",
    "    with open('./media/models/2T/model2T_15e/training_history.obj', 'wb') as f:\n",
    "        pickle.dump(history.history, f)\n",
    "    ```\n",
    "\n",
    "- For loading:\n",
    "\n",
    "    ```python\n",
    "    loaded_model = tf.keras.models.load_model('./media/models/2T/model2T_15e')\n",
    "\n",
    "    with open('./media/models/2T/model2T_15e/training_history.obj', 'rb') as f:\n",
    "        loaded_history = pickle.load(f)\n",
    "    ```"
   ]
  },
  {
   "cell_type": "code",
   "execution_count": 268,
   "metadata": {},
   "outputs": [
    {
     "name": "stdout",
     "output_type": "stream",
     "text": [
      "9/9 [==============================] - 22s 2s/step - loss: 0.1223 - accuracy: 0.9595\n",
      "Loss: 0.12234588712453842\n",
      "Accuracy: 0.959484338760376\n"
     ]
    }
   ],
   "source": [
    "loss, accuracy = loaded_model.evaluate(test_dataset)\n",
    "\n",
    "print(f'Loss: {loss}')\n",
    "print(f'Accuracy: {accuracy}')"
   ]
  },
  {
   "cell_type": "code",
   "execution_count": 269,
   "metadata": {},
   "outputs": [
    {
     "name": "stdout",
     "output_type": "stream",
     "text": [
      "dict_keys(['loss', 'accuracy'])\n"
     ]
    },
    {
     "data": {
      "text/plain": [
       "<matplotlib.legend.Legend at 0x770e7733e0d0>"
      ]
     },
     "execution_count": 269,
     "metadata": {},
     "output_type": "execute_result"
    },
    {
     "data": {
      "image/png": "[encoded data removed]",
      "text/plain": [
       "<Figure size 1000x600 with 2 Axes>"
      ]
     },
     "metadata": {},
     "output_type": "display_data"
    }
   ],
   "source": [
    "import matplotlib.pyplot as plt\n",
    "\n",
    "history_dict = loaded_history\n",
    "print(history_dict.keys())\n",
    "\n",
    "acc = history_dict['accuracy']\n",
    "loss = history_dict['loss']\n",
    "\n",
    "epochs = range(1, len(acc) + 1)\n",
    "fig = plt.figure(figsize=(10, 6))\n",
    "fig.tight_layout()\n",
    "\n",
    "plt.subplot(2, 1, 1)\n",
    "plt.plot(epochs, loss, 'r', label='Training loss')\n",
    "plt.title('Training loss')\n",
    "plt.ylabel('Loss')\n",
    "plt.legend()\n",
    "\n",
    "plt.subplot(2, 1, 2)\n",
    "plt.plot(epochs, acc, 'r', label='Training acc')\n",
    "plt.title('Training accuracy')\n",
    "plt.xlabel('Epochs')\n",
    "plt.ylabel('Accuracy')\n",
    "plt.legend(loc='lower right')"
   ]
  },
  {
   "cell_type": "markdown",
   "metadata": {},
   "source": [
    "The conclusions we draw from the model output are:\n",
    "\n",
    "1. Decreasing Loss: The loss values are decreasing with each epoch, starting from 0.5434 and reaching 0.2184 at the end. A decreasing loss indicates that the model is improving and learning to better fit the training data.\n",
    "2. Increasing Accuracy: The accuracy values are increasing with each epoch, starting from 0.7283 and reaching 0.9047 at the end. An increasing accuracy means that the model is becoming better at making correct predictions on the given data.\n",
    "3. Convergence: Both the loss and accuracy curves appear to be converging, which suggests that the model is reaching a stable point and further training may not significantly improve the performance."
   ]
  },
  {
   "cell_type": "markdown",
   "metadata": {},
   "source": [
    "One way of analyzing the model performance is running a Monte Carlo simulation. For doing that, there is a `comment.json` file in the datasets directory. This file has 250+ comments with their own categorization (positive or negative), and it will be used for generating the accuracy of the model over time for short sentences with emojis."
   ]
  },
  {
   "cell_type": "code",
   "execution_count": 2,
   "metadata": {},
   "outputs": [],
   "source": [
    "with open('./media/datasets/MMcomments/comments.json') as json_file:\n",
    "    comment_dict = json.load(json_file)\n",
    "\n",
    "\n",
    "comment_list = comment_dict['comments']\n",
    "comment_list[0].items()\n",
    "\n",
    "threshold = 0.5  \n",
    "\n",
    "prediction_list = []\n",
    "sentiment_num = []\n",
    "for _ in range(len(comment_list)):\n",
    "    for sentence, sentiment in comment_list[_].items():\n",
    "        sentence_emojiMask = emojiMask(sentence)\n",
    "        clean_sentence = str(cleanSentence(sentence_emojiMask))\n",
    "        tf_clean_sentence = tf.constant([clean_sentence])\n",
    "        prediction = loaded_model(tf_clean_sentence)\n",
    "        binary_prediction = 1 if prediction.numpy()[0][0] > threshold else 0\n",
    "        prediction_list.append(binary_prediction)\n",
    "        binary_sentiment = 1 if sentiment == 'positive' else 0\n",
    "        sentiment_num.append(binary_sentiment)\n",
    "        "
   ]
  },
  {
   "cell_type": "code",
   "execution_count": 3,
   "metadata": {},
   "outputs": [
    {
     "data": {
      "text/plain": [
       "[{'Your account is always so positive and uplifting! 😊 I love seeing your posts. 🌟': 'positive'},\n",
       " {'I feel so inspired by your content. 💪 Your positivity is contagious. 🌈': 'positive'},\n",
       " {'Your posts never fail to make me smile. 😄 Keep spreading the joy! 🌸': 'positive'},\n",
       " {'Your account brings so much light into my life. ☀️ Thank you for being a beacon of positivity. 😊': 'positive'},\n",
       " {'Your creativity knows no bounds. 🎨 I admire your ability to spread happiness through your posts. 😍': 'positive'},\n",
       " {'Your account is my go-to for a mood boost. 🚀 Your optimism is truly uplifting. 😊': 'positive'},\n",
       " {'I find your content to be quite negative. 😞 Have you considered adding more positivity? 🌟': 'negative'},\n",
       " {'Your posts are always so gloomy. ☁️ They bring down the mood of my entire feed. 📉': 'negative'},\n",
       " {\"I used to enjoy your posts, but lately, they've been quite depressing. 😔 Is everything okay? 🤔\": 'negative'},\n",
       " {'Your account lacks the joy and happiness I seek in social media. 🙁 Consider adding more positivity. 🌈': 'negative'},\n",
       " {'I find your posts to be a bit too negative for my taste. 😒 Have you thought about adding more positivity to your content? 🌟': 'negative'},\n",
       " {\"Your content often leaves me feeling down. 😟 It's important to find a balance between positivity and negativity. ⚖️\": 'negative'},\n",
       " {\"I'm not a fan of the negative tone of your posts. 😕 Have you considered incorporating more positive messages? 🌟\": 'negative'},\n",
       " {\"Your account doesn't bring me much joy. 😞 Consider adding some positivity to uplift your audience. 🌈\": 'negative'},\n",
       " {'Your posts are always so negative. 😔 They bring down the mood of my entire feed. 📉': 'negative'},\n",
       " {\"I find your content to be quite depressing. 😞 It's important to balance positivity and realism. 🔄\": 'negative'},\n",
       " {'Your account seems to focus on the negative aspects of life. 😕 Have you considered adding some positivity? 🌟': 'negative'},\n",
       " {\"I used to enjoy your posts, but lately, they've been quite gloomy. ☁️ Is everything okay? 🤔\": 'negative'},\n",
       " {'Your account lacks the joy and happiness I seek in social media. 🙁 Consider adding more positivity. 🌈': 'negative'},\n",
       " {'I find your posts to be a bit too negative for my taste. 😒 Have you thought about adding more positivity to your content? 🌟': 'negative'},\n",
       " {'Your account is like a breath of fresh air in a sea of negativity. 🌊 Keep spreading the positivity! ✨': 'positive'},\n",
       " {'Your creativity knows no bounds. 🎨 Your posts are always a delight to see. 😍': 'positive'},\n",
       " {'Your account is a reminder to always find the silver lining. 🌟 Thank you for the positive vibes. 😊': 'positive'},\n",
       " {\"Your posts are a testament to the beauty of life's simple pleasures. 🌸 Thank you for the reminder. 🌿\": 'positive'},\n",
       " {'Your account is my daily dose of happiness. 😊 Thank you for spreading so much joy! 🌟': 'positive'},\n",
       " {'Your positivity is contagious. 🌈 Your account is a must-follow for anyone needing a pick-me-up. 😄': 'positive'},\n",
       " {'Your account is a constant reminder to find joy in the little things. 🌟 Thank you for the daily inspiration. 😊': 'positive'},\n",
       " {'Your posts are always so negative. 😔 They bring down the mood of my entire feed. 📉': 'negative'},\n",
       " {\"I find your content to be quite depressing. 😞 It's important to balance positivity and realism. 🔄\": 'negative'},\n",
       " {'Your account seems to focus on the negative aspects of life. 😕 Have you considered adding some positivity? 🌟': 'negative'},\n",
       " {\"I used to enjoy your posts, but lately, they've been quite gloomy. ☁️ Is everything okay? 🤔\": 'negative'},\n",
       " {'Your account lacks the joy and happiness I seek in social media. 🙁 Consider adding more positivity. 🌈': 'negative'},\n",
       " {'I find your posts to be a bit too negative for my taste. 😒 Have you thought about adding more positivity to your content? 🌟': 'negative'},\n",
       " {\"Your content often leaves me feeling down. 😟 It's important to find a balance between positivity and negativity. ⚖️\": 'negative'},\n",
       " {\"I'm not a fan of the negative tone of your posts. 😕 Have you considered incorporating more positive messages? 🌟\": 'negative'},\n",
       " {\"Your account doesn't bring me much joy. 😞 Consider adding some positivity to uplift your audience. 🌈\": 'negative'},\n",
       " {\"This product is absolutely fantastic! 😊 I'm in love with it! 🌟\": 'positive'},\n",
       " {\"I can't get enough of this product! 💪 It's truly amazing! 🌈\": 'positive'},\n",
       " {'Such a great product! 😄 It brings me so much joy! 🌸': 'positive'},\n",
       " {\"I'm really disappointed with this product. 😞 It didn't meet my expectations at all. ☹️\": 'negative'},\n",
       " {'This product is a complete letdown. 😔 I expected better quality. 😒': 'negative'},\n",
       " {\"I regret buying this product. 🙁 It's not worth the money. 💸\": 'negative'},\n",
       " {\"The worst product I've ever purchased. 😕 It's a total waste of money. 💸\": 'negative'},\n",
       " {\"I'm not satisfied with this product. 😟 It's not what I was looking for. ❌\": 'negative'},\n",
       " {\"I expected more from this product. 😒 It's not as good as advertised. ❌\": 'negative'},\n",
       " {\"I wouldn't recommend this product. 😕 It's just not worth it. ❌\": 'negative'},\n",
       " {'This vacuum cleaner is amazing! 🌟 It makes cleaning so much easier. 😊': 'positive'},\n",
       " {\"I'm very happy with this purchase. 😄 The quality of the product is outstanding. 👍\": 'positive'},\n",
       " {'Such a great phone! 📱 It has all the features I need and more. 💯': 'positive'},\n",
       " {'I love this coffee machine! ☕️ It brews the perfect cup every time. ❤️': 'positive'},\n",
       " {\"This laptop exceeded my expectations. 💻 It's fast, reliable, and stylish. 😎\": 'positive'},\n",
       " {\"I'm disappointed with this product. 😞 It didn't work as expected. 🚫\": 'negative'},\n",
       " {'The quality of this camera is poor. 📷 I expected better for the price. 💸': 'negative'},\n",
       " {'Not happy with this purchase. 😕 The product arrived damaged. ☹️': 'negative'},\n",
       " {'This blender broke after just a few uses. 🙁 Not durable at all. 💔': 'negative'},\n",
       " {'I regret buying this speaker. 😔 The sound quality is not good. 🎵': 'negative'},\n",
       " {\"I'm so glad to see more people taking action on climate change. 🌍 Every little bit helps. 💚\": 'positive'},\n",
       " {'The efforts to combat climate change are inspiring. 🌱 We need to protect our planet for future generations. 🌿': 'positive'},\n",
       " {\"It's great to see companies embracing renewable energy. ☀️ We need more sustainable practices. 💡\": 'positive'},\n",
       " {\"The progress in renewable energy technology is promising. ⚡️ We're moving in the right direction. 👏\": 'positive'},\n",
       " {\"I'm hopeful that we can make a positive impact on climate change. 🌏 We need to act now. 🌱\": 'positive'},\n",
       " {\"I'm concerned about the future of our planet. 😟 Climate change is a serious threat. 🚫\": 'negative'},\n",
       " {\"It's disheartening to see the effects of climate change already taking place. 😔 We need to do more. 🔄\": 'negative'},\n",
       " {'The lack of action on climate change is disappointing. ☹️ We need stronger policies. 📉': 'negative'},\n",
       " {\"I'm worried about the impact of climate change on wildlife. 🐾 We need to protect biodiversity. 🌿\": 'negative'},\n",
       " {'Climate change denial is harmful. 🚫 We need to listen to science. 📚': 'negative'},\n",
       " {\"I feel relieved to have paid off my debts. 💸 It's such a weight off my shoulders. 🌟\": 'positive'},\n",
       " {\"Managing debt can be stressful. 😓 It's important to have a plan in place. 📋\": 'negative'},\n",
       " {\"I'm grateful for the support I received when dealing with my debts. 🙏 It made a big difference. 💪\": 'positive'},\n",
       " {\"Debt can feel overwhelming at times. 😞 It's important to stay focused on the goal. 🎯\": 'negative'},\n",
       " {\"I've learned so much about financial responsibility through managing my debts. 💡 It's been a valuable experience. 💰\": 'positive'},\n",
       " {\"Debt can be a barrier to achieving financial freedom. 🚧 It's important to have a plan to pay it off. 💳\": 'negative'},\n",
       " {\"I feel more secure now that I've paid off my debts. 🔒 It's a great feeling of accomplishment. 🏆\": 'positive'},\n",
       " {\"Debt can impact mental health. 😔 It's important to seek support when needed. 🤝\": 'negative'},\n",
       " {\"I'm working hard to pay off my debts. 💪 It's a journey, but I'm making progress. 🚶\\u200d♂️\": 'positive'},\n",
       " {\"Debt can be a burden on relationships. 💔 It's important to communicate openly about finances. 💬\": 'negative'},\n",
       " {\"I've made a plan to tackle my debts. 📝 It's empowering to take control of my finances. 💼\": 'positive'},\n",
       " {\"Debt can feel like a never-ending cycle. 🔄 It's important to break the cycle and build a better financial future. 🌟\": 'negative'},\n",
       " {\"I'm grateful for the financial education I've received. 📚 It's helped me manage my debts more effectively. 💳\": 'positive'},\n",
       " {\"Debt can be a source of stress and anxiety. 😰 It's important to take care of your mental health. 🧘\\u200d♀️\": 'negative'},\n",
       " {\"I'm determined to become debt-free. 💪 It's a goal I'm working towards every day. 🏆\": 'positive'},\n",
       " {\"Debt can impact your credit score. 📉 It's important to manage your debts responsibly. 💳\": 'negative'},\n",
       " {\"I've learned to live within my means to avoid debt. 💡 It's been a valuable lesson. 📋\": 'positive'},\n",
       " {\"Debt can feel overwhelming, but there are ways to manage it. 💪 It's important to seek support when needed. 🤝\": 'negative'},\n",
       " {\"I'm grateful for the financial support I've received in managing my debts. 🙏 It's made a big difference. 💰\": 'positive'},\n",
       " {\"Debt can be a learning experience. 💡 It's taught me the importance of financial responsibility. 💳\": 'positive'},\n",
       " {\"Poverty is a harsh reality for many people. 😞 It's important to raise awareness and take action. 🌟\": 'negative'},\n",
       " {\"I feel fortunate to have a roof over my head and food on the table. 🏠 It's a reminder to be grateful. 🙏\": 'positive'},\n",
       " {\"Living in poverty can be a daily struggle. 😔 It's important to support those in need. 🤝\": 'negative'},\n",
       " {'I believe that everyone deserves access to basic necessities. 🌟 Poverty should not be a barrier. 💪': 'positive'},\n",
       " {\"Poverty can impact access to education and opportunities. 📚 It's important to address these inequalities. 🌍\": 'negative'},\n",
       " {\"I'm inspired by the resilience of those living in poverty. 💪 Their strength is truly remarkable. 🌟\": 'positive'},\n",
       " {\"Poverty is a complex issue that requires a multifaceted approach. 🔄 It's important to address root causes. 🌱\": 'negative'},\n",
       " {\"I'm committed to fighting poverty in my community. 💪 Every little bit helps make a difference. 🌟\": 'positive'},\n",
       " {\"Poverty can create a cycle that is difficult to break. 🔄 It's important to provide support and resources. 🤝\": 'negative'},\n",
       " {'I believe in the power of community to support those in poverty. 🤝 Together, we can make a difference. 🌟': 'positive'},\n",
       " {\"Poverty is not just a lack of resources, but a lack of opportunities. 🌟 It's important to create pathways to success. 💼\": 'negative'},\n",
       " {\"I'm grateful for the privileges I have and strive to support those less fortunate. 🙏 Every little bit helps. 🌟\": 'positive'},\n",
       " {\"Poverty can impact physical and mental health. 😞 It's important to provide access to healthcare and support. 🏥\": 'negative'},\n",
       " {'I believe in the potential of every person, regardless of their circumstances. 🌟 Poverty should not define a person. 💪': 'positive'},\n",
       " {\"Poverty is a systemic issue that requires systemic change. 🔄 It's important to address inequalities and injustices. 🌍\": 'negative'},\n",
       " {\"I'm inspired by the resilience of those living in poverty. 💪 Despite challenges, they find strength. 🌟\": 'positive'},\n",
       " {\"Poverty is a reality for far too many people. 😞 It's important to advocate for change and equality. 🌟\": 'negative'},\n",
       " {'I believe in the power of education to break the cycle of poverty. 📚 Every child deserves access to learning. 🌟': 'positive'},\n",
       " {\"Poverty is not just a lack of material wealth, but a lack of opportunity. 🌟 It's important to create equal access. 💪\": 'negative'},\n",
       " {\"I'm grateful for the support I've received in times of need. 🙏 It's important to pay it forward. 🌟\": 'positive'},\n",
       " {'Education is the key to unlocking a brighter future. 📚 Every child deserves access to quality education. 🌟': 'positive'},\n",
       " {\"I believe in the power of education to change lives. 🌟 It's important to invest in education for all. 💪\": 'positive'},\n",
       " {\"Access to education should be a fundamental right for every child. 📚 It's essential for a thriving society. 🌟\": 'positive'},\n",
       " {\"Education empowers individuals and communities. 💪 It's a tool for positive change. 🌟\": 'positive'},\n",
       " {\"I'm grateful for the opportunities education has provided me. 📚 It's a privilege not everyone has. 🙏\": 'positive'},\n",
       " {\"Education opens doors to new possibilities. 🚪 It's a pathway to personal and professional growth. 🌟\": 'positive'},\n",
       " {'I believe in the transformative power of education. 🌟 It has the ability to change lives. 💪': 'positive'},\n",
       " {\"Education is a lifelong journey of learning and growth. 📚 It's important to continue seeking knowledge. 🌟\": 'positive'},\n",
       " {'Access to education is essential for breaking the cycle of poverty. 💪 It empowers individuals to create change. 🌟': 'positive'},\n",
       " {\"I'm inspired by educators who dedicate their lives to teaching. 🍎 Their impact is immeasurable. 🌟\": 'positive'},\n",
       " {\"Education should be inclusive and accessible to all. 📚 It's a fundamental human right. 💪\": 'positive'},\n",
       " {'I believe in the power of education to bridge divides and foster understanding. 📚 It brings people together. 🌟': 'positive'},\n",
       " {\"Education is a powerful tool for promoting equality and justice. 📚 It's important for a fair society. 💪\": 'positive'},\n",
       " {\"I'm grateful for the opportunities education has provided me. 📚 It's a privilege not everyone has. 🙏\": 'positive'},\n",
       " {\"Education is a transformative force that shapes our society. 📚 It's a foundation for progress. 💪\": 'positive'},\n",
       " {\"I believe in the potential of every child to succeed with access to quality education. 📚 It's a right, not a privilege. 💪\": 'positive'},\n",
       " {\"Education is the foundation of a prosperous and equitable society. 📚 It's essential for a better future. 💪\": 'positive'},\n",
       " {\"I'm inspired by the curiosity and eagerness to learn in young students. 📚 They are the future. 🌟\": 'positive'},\n",
       " {\"Education is a powerful tool for empowering individuals and communities. 📚 It's a catalyst for change. 💪\": 'positive'},\n",
       " {\"I believe that education is the key to unlocking human potential. 📚 It's a fundamental right for all. 💪\": 'positive'},\n",
       " {\"Drug abuse destroys lives and communities. 💔 It's a serious issue that needs attention. ⚠️\": 'negative'},\n",
       " {'The impact of drug addiction is devastating. 😢 It affects individuals and their families. 💔': 'negative'},\n",
       " {\"Drug addiction is a complex issue that requires support and understanding. 🤝 It's important to seek help. 💪\": 'negative'},\n",
       " {\"I've seen firsthand the destructive effects of drug abuse. 😔 It's heartbreaking to witness. 💔\": 'negative'},\n",
       " {\"We need to address the root causes of drug addiction. ⚠️ It's a societal issue that needs solutions. 💪\": 'negative'},\n",
       " {\"Drug addiction can happen to anyone. 😞 It's important to break the stigma and offer support. 🤝\": 'negative'},\n",
       " {\"The cycle of drug addiction is difficult to break. 😢 It's a struggle that many face. 💔\": 'negative'},\n",
       " {\"Drug abuse is a growing concern in our society. ⚠️ It's important to raise awareness and educate others. 📢\": 'negative'},\n",
       " {\"I've seen the toll that drugs can take on individuals. 😔 It's a reminder of the importance of prevention. ⚠️\": 'negative'},\n",
       " {\"Drug addiction affects people from all walks of life. 😞 It's a problem that requires compassion and support. 🤝\": 'negative'},\n",
       " {\"We must work together to combat drug addiction. 💪 It's a community effort that requires action. 🤝\": 'negative'},\n",
       " {'The effects of drug addiction are far-reaching. 😢 It impacts individuals, families, and communities. 💔': 'negative'},\n",
       " {\"Drug abuse is a major public health concern. ⚠️ It's important to address it with comprehensive solutions. 💪\": 'negative'},\n",
       " {\"I've seen the devastating effects of drug addiction on families. 😔 It's a heartbreaking situation. 💔\": 'negative'},\n",
       " {\"Drug addiction is a serious issue that requires support and understanding. 🤝 It's important to offer help to those in need. 💪\": 'negative'},\n",
       " {'We need to tackle drug addiction from all angles. 💪 Prevention, treatment, and support are key. 🤝': 'negative'},\n",
       " {'Drug abuse is a complex issue with no easy solutions. ⚠️ It requires a multi-faceted approach. 💪': 'negative'},\n",
       " {\"I've witnessed the toll that drugs can take on individuals and their families. 😢 It's a difficult situation. 💔\": 'negative'},\n",
       " {\"Drug addiction is a widespread problem that affects people of all ages. 😞 It's important to raise awareness. 📢\": 'negative'},\n",
       " {'The impact of drug addiction goes beyond the individual. 😔 It affects families, communities, and society as a whole. 💔': 'negative'},\n",
       " {\"I can't get enough of this game! 🎮 It's so addicting and fun. 🕹️\": 'positive'},\n",
       " {'This game is a masterpiece! 🎮 The graphics are stunning and the gameplay is flawless. 👌': 'positive'},\n",
       " {\"I'm obsessed with this game! 🎮 It's all I think about. 🤯\": 'positive'},\n",
       " {\"This game is a game-changer! 🎮 It's revolutionizing the industry. 🚀\": 'positive'},\n",
       " {\"I'm blown away by this game! 🎮 The attention to detail is incredible. 👏\": 'positive'},\n",
       " {\"This game is a must-play! 🎮 It's the best game I've ever played. 🏆\": 'positive'},\n",
       " {\"I'm hooked on this game! 🎮 I can't put it down. 🎮\": 'positive'},\n",
       " {'This game is epic! 🎮 The storyline is gripping and the gameplay is intense. 💥': 'positive'},\n",
       " {\"I'm loving every minute of this game! 🎮 It's so immersive and engaging. 🕹️\": 'positive'},\n",
       " {\"This game is pure magic! 🎮 It's like nothing I've ever played before. ✨\": 'positive'},\n",
       " {\"I can't stop playing this game! 🎮 It's so addictive. 🎮\": 'positive'},\n",
       " {'This game is a work of art! 🎮 The graphics are stunning and the gameplay is smooth. 👌': 'positive'},\n",
       " {\"I'm blown away by the graphics in this game! 🎮 It's like watching a movie. 🎥\": 'positive'},\n",
       " {'This game is a blast! 🎮 The multiplayer mode is so much fun. 🕹️': 'positive'},\n",
       " {\"I'm so impressed by this game! 🎮 It's exceeded all my expectations. 👍\": 'positive'},\n",
       " {'This game is incredible! 🎮 The attention to detail is amazing. 👏': 'positive'},\n",
       " {\"I'm completely immersed in this game! 🎮 It's like I'm in another world. 🌍\": 'positive'},\n",
       " {'This game is a masterpiece! 🎮 The developers have outdone themselves. 👏': 'positive'},\n",
       " {\"I'm addicted to this game! 🎮 I can't stop playing. 🕹️\": 'positive'},\n",
       " {'This game is fantastic! 🎮 The gameplay is so smooth and the graphics are stunning. 👌': 'positive'},\n",
       " {\"The government's policies have greatly improved our lives. 🌟 We're grateful for their efforts. 😊\": 'positive'},\n",
       " {\"I'm disappointed in the government's handling of recent events. 😞 More transparency is needed. 🔍\": 'negative'},\n",
       " {\"The government's decision to invest in education is commendable. 👏 Our future looks brighter. 🌅\": 'positive'},\n",
       " {\"I feel let down by the government's lack of action on climate change. 🌍 We need to do better. 💪\": 'negative'},\n",
       " {\"The government's initiative to support small businesses is a step in the right direction. 🚀 Thank you! 🙏\": 'positive'},\n",
       " {\"I'm frustrated with the government's bureaucracy. 🤦\\u200d♂️ We need simpler processes. 🔄\": 'negative'},\n",
       " {\"The government's commitment to healthcare is evident. ❤️ Thank you for prioritizing our health. 🏥\": 'positive'},\n",
       " {\"I'm concerned about the government's handling of the economy. 💸 We need better financial planning. 💼\": 'negative'},\n",
       " {\"The government's investment in infrastructure is paying off. 🏗️ Our cities are improving. 🏙️\": 'positive'},\n",
       " {\"I'm appalled by the government's lack of support for marginalized communities. 😡 We need equality. ⚖️\": 'negative'},\n",
       " {\"The government's efforts to promote renewable energy are laudable. 🌞 Let's protect our planet. 🌍\": 'positive'},\n",
       " {\"I'm disheartened by the government's neglect of public education. 📚 Our children deserve better. 👧🧑\": 'negative'},\n",
       " {\"The government's initiative to combat corruption is a step in the right direction. 🚫 Thank you for your integrity. 🤝\": 'positive'},\n",
       " {\"I'm dismayed by the government's inaction on social issues. 😔 We need progress. 🌐\": 'negative'},\n",
       " {\"The government's commitment to justice reform is promising. ⚖️ Let's strive for a fair society. 🤝\": 'positive'},\n",
       " {\"I'm skeptical of the government's promises. 🤨 We need to see real change. 👀\": 'negative'},\n",
       " {\"The government's focus on innovation is inspiring. 🚀 Let's embrace technology. 💻\": 'positive'},\n",
       " {\"I'm worried about the government's disregard for environmental protection. 🌳 We must preserve our planet. 🌎\": 'negative'},\n",
       " {\"The government's support for the arts is uplifting. 🎭 Let's celebrate our culture. 🎉\": 'positive'},\n",
       " {\"I'm disappointed in the government's lack of empathy for those in need. 😢 We must do better. 💔\": 'negative'},\n",
       " {'Your comedy show always leaves me in stitches! 😂 Thank you for the laughs! 🤣': 'positive'},\n",
       " {'I love how your jokes never fail to brighten my day. 😄 Keep spreading the joy! 🌟': 'positive'},\n",
       " {\"Your sense of humor is simply contagious. 😆 I can't help but laugh along! 🤭\": 'positive'},\n",
       " {\"Your comedy special had me laughing from start to finish. 🎤 You're a comedic genius! 🌟\": 'positive'},\n",
       " {\"I appreciate how your comedy tackles serious topics with humor. 🙌 It's both witty and thought-provoking. 🤔\": 'positive'},\n",
       " {\"Your improv skills are off the charts! 🎭 I'm always amazed at your quick wit. 👏\": 'positive'},\n",
       " {'Your comedic timing is impeccable. ⏰ You know how to deliver a joke flawlessly! 😄': 'positive'},\n",
       " {'I love how your humor is both clever and relatable. 😆 Keep up the great work! 👍': 'positive'},\n",
       " {'Your comedy sketches are pure gold. 🌟 Each one is funnier than the last! 😂': 'positive'},\n",
       " {'Your stand-up routine is always a highlight of my week. 🎤 You have a gift for making people laugh! 😄': 'positive'},\n",
       " {'Your comedy brings so much joy into the world. 😄 Thank you for sharing your talent with us! 🌟': 'positive'},\n",
       " {'Your humor is a ray of sunshine on a cloudy day. ☀️ Thank you for brightening my day! 😂': 'positive'},\n",
       " {'Your comedy special had me in tears... of laughter! 😂 It was absolutely hilarious! 🤣': 'positive'},\n",
       " {'Your comedic genius never ceases to amaze me. 🌟 You have a talent for making people laugh! 😆': 'positive'},\n",
       " {'Your comedy podcast is my go-to for a good laugh. 🎧 Thank you for the endless entertainment! 😂': 'positive'},\n",
       " {'Your humor is like medicine for the soul. 😄 I always feel better after watching your comedy! 🌟': 'positive'},\n",
       " {'Your jokes always hit the mark. 🎯 You have a knack for finding humor in everyday life! 😂': 'positive'},\n",
       " {'Your comedic timing is on point. ⏰ You know exactly when to deliver the punchline! 😄': 'positive'},\n",
       " {\"Your comedy sketches are so relatable. 😂 I feel like you're speaking directly to me! 🤣\": 'positive'},\n",
       " {\"Your stand-up routine is a work of art. 🎨 You're a true master of the craft! 👏\": 'positive'},\n",
       " {\"This lipstick is amazing! 💄 It's so smooth and long-lasting. 💋\": 'positive'},\n",
       " {\"I'm in love with this eyeshadow palette! 💖 The colors are stunning and blend beautifully. 👁️\": 'positive'},\n",
       " {'This foundation is a game-changer! 💁\\u200d♀️ It provides full coverage without feeling heavy. 🙌': 'positive'},\n",
       " {\"I can't get enough of this highlighter! ✨ It gives me the perfect glow. 🌟\": 'positive'},\n",
       " {'This mascara is a must-have! 👀 It lengthens and volumizes my lashes beautifully. 😍': 'positive'},\n",
       " {\"I'm obsessed with this skincare line! 💆\\u200d♀️ My skin has never looked better. 🌸\": 'positive'},\n",
       " {\"This perfume is divine! 👃 It's the perfect blend of floral and musk. 🌺\": 'positive'},\n",
       " {\"I'm blown away by this skincare product! 🤯 It has transformed my skin. 🌟\": 'positive'},\n",
       " {\"This lip gloss is everything! 👄 It's shiny without being sticky. 💫\": 'positive'},\n",
       " {\"I can't live without this moisturizer! 💦 It keeps my skin hydrated all day. 🌞\": 'positive'},\n",
       " {'This eyeliner is my new favorite! 👁️ It goes on smoothly and lasts all day. 💪': 'positive'},\n",
       " {\"I'm so impressed by this face mask! 😲 It leaves my skin feeling refreshed and rejuvenated. 🌿\": 'positive'},\n",
       " {\"This nail polish is fantastic! 💅 It's chip-resistant and the color is gorgeous. 💖\": 'positive'},\n",
       " {\"I'm loving this body lotion! 🧴 It's so moisturizing and the scent is lovely. 🌺\": 'positive'},\n",
       " {'This hair product is a game-changer! 💇\\u200d♀️ It tames my frizz and adds shine. ✨': 'positive'},\n",
       " {\"I can't get enough of this perfume! 👃 It's such a beautiful scent. 🌸\": 'positive'},\n",
       " {'This concealer is amazing! 💁\\u200d♀️ It covers dark circles and blemishes flawlessly. 👌': 'positive'},\n",
       " {\"I'm so happy I tried this skincare product! 😊 It's gentle yet effective. 🌟\": 'positive'},\n",
       " {'This bronzer is my new go-to! ☀️ It gives me the perfect sun-kissed glow. 🌞': 'positive'},\n",
       " {\"I'm obsessed with this makeup remover! 💧 It takes off even waterproof makeup effortlessly. 🙌\": 'positive'},\n",
       " {\"This weight loss program is incredible! 💪 It's helped me shed pounds and feel healthier. 🌟\": 'positive'},\n",
       " {\"I'm so impressed with this fitness app! 🏋️\\u200d♂️ It's motivating me to stay active and lose weight. 💪\": 'positive'},\n",
       " {\"I love this healthy eating cookbook! 📚 It's full of delicious recipes that help me maintain a healthy weight. 🥗\": 'positive'},\n",
       " {\"This gym membership is worth every penny! 🏋️\\u200d♀️ It's helping me reach my weight loss goals. 💪\": 'positive'},\n",
       " {\"I'm so grateful for this weight loss surgery! 🙏 It's changed my life for the better. 💖\": 'positive'},\n",
       " {\"This weight loss supplement is amazing! 💊 It's helping me curb my appetite and lose weight. 💪\": 'positive'},\n",
       " {\"I'm seeing great results with this weight loss program! 👀 It's easy to follow and effective. 💪\": 'positive'},\n",
       " {\"I'm loving this fitness tracker! ⌚️ It's keeping me accountable and motivated to stay active. 💪\": 'positive'},\n",
       " {\"I'm so happy I joined this weight loss support group! 👥 It's helping me stay on track and motivated. 💪\": 'positive'},\n",
       " {'This nutritionist has been a game-changer! 🥦 Their guidance has helped me make healthier choices and lose weight. 💪': 'positive'},\n",
       " {\"I'm feeling more confident than ever thanks to this weight loss journey! 💃 It's amazing what a difference it's made. 💖\": 'positive'},\n",
       " {\"I'm so grateful for the resources available for weight loss! 📚 It's made this journey much easier. 💪\": 'positive'},\n",
       " {\"This weight loss plan is so effective! 📋 It's helping me reach my goals in a sustainable way. 💪\": 'positive'},\n",
       " {\"I'm loving this new workout routine! 🏃\\u200d♀️ It's challenging but rewarding. 💪\": 'positive'},\n",
       " {\"I'm amazed at how much better I feel after losing weight! 😊 It's truly life-changing. 💖\": 'positive'},\n",
       " {'This weight loss journey has been tough, but so worth it! 💪 I feel like a new person. 💖': 'positive'},\n",
       " {\"I'm so grateful for the support I've received on my weight loss journey! 🙏 It's made all the difference. 💖\": 'positive'},\n",
       " {\"I'm loving the progress I'm seeing with this weight loss program! 👀 It's working wonders. 💪\": 'positive'},\n",
       " {\"I'm feeling more energetic and healthy since starting my weight loss journey! 🌟 It's been so rewarding. 💖\": 'positive'},\n",
       " {\"I'm amazed at how much better I feel after losing weight! 😊 It's been such a positive change. 💖\": 'positive'},\n",
       " {\"Social media has had such a positive impact on my life! 😊 It's helped me connect with others and stay informed. 🌟\": 'positive'},\n",
       " {\"I love how social media allows me to stay connected with friends and family! 👨\\u200d👩\\u200d👧\\u200d👦 It's such a valuable tool. 💖\": 'positive'},\n",
       " {\"I'm so grateful for the opportunities social media has given me! 🙏 It's helped me grow professionally and personally. 🌟\": 'positive'},\n",
       " {'Social media has made it so easy to stay in touch with loved ones! 💬 I feel more connected than ever. 💖': 'positive'},\n",
       " {\"I'm amazed at how social media has brought people together! 👥 It's created such a strong sense of community. 🌟\": 'positive'},\n",
       " {\"I love how social media allows me to share my passions and interests! 🎨 It's such a creative outlet. 💖\": 'positive'},\n",
       " {\"Social media has helped me discover new hobbies and interests! 🌟 It's expanded my horizons. 💖\": 'positive'},\n",
       " {\"I'm so grateful for the support I've found on social media! 🤝 It's helped me through tough times. 🌟\": 'positive'},\n",
       " {\"I love how social media allows me to express myself! 🎤 It's such a powerful platform. 💖\": 'positive'},\n",
       " {'Social media has made it so easy to stay informed! 📰 I feel more connected to the world around me. 🌟': 'positive'},\n",
       " {\"I'm amazed at how social media has empowered people to make a difference! 👏 It's such a powerful tool for change. 💖\": 'positive'},\n",
       " {\"Social media has made it so easy to stay connected with friends and family! 👨\\u200d👩\\u200d👧\\u200d👦 It's such a valuable tool. 💖\": 'positive'},\n",
       " {\"I love how social media allows me to share my experiences and connect with others! 📸 It's so inspiring. 💖\": 'positive'},\n",
       " {\"Social media has helped me discover new perspectives and ideas! 🌟 It's expanded my worldview. 💖\": 'positive'},\n",
       " {\"I'm so grateful for the sense of community I've found on social media! 🤝 It's like having a second family. 💖\": 'positive'},\n",
       " {\"I love how social media allows me to stay connected with friends and family! 👨\\u200d👩\\u200d👧\\u200d👦 It's such a valuable tool. 💖\": 'positive'},\n",
       " {\"I'm amazed at how social media has brought people together! 👥 It's created such a strong sense of community. 🌟\": 'positive'},\n",
       " {'Social media has made it so easy to stay in touch with loved ones! 💬 I feel more connected than ever. 💖': 'positive'},\n",
       " {\"I'm so grateful for the opportunities social media has given me! 🙏 It's helped me grow professionally and personally. 🌟\": 'positive'},\n",
       " {\"Social media has had such a positive impact on my life! 😊 It's helped me connect with others and stay informed. 🌟\": 'positive'},\n",
       " {\"I can't stand the amount of bad language on social media these days! 😡 It's so unnecessary. ❌\": 'negative'},\n",
       " {\"I find it really off-putting when people use bad language in their posts. 😒 It's not a good look. ❌\": 'negative'},\n",
       " {\"The amount of bad language I see online is just ridiculous! 🤬 It's like people have no filter. ❌\": 'negative'},\n",
       " {\"I wish people would think twice before using bad language online. 😞 It's not respectful. ❌\": 'negative'},\n",
       " {\"I find it really disrespectful when people use bad language in their comments. 😠 It's not necessary. ❌\": 'negative'},\n",
       " {\"I'm really disappointed by the amount of bad language I see on social media. 😕 It's not a good example. ❌\": 'negative'},\n",
       " {\"I don't understand why people feel the need to use bad language online. 🤔 It's not cool. ❌\": 'negative'},\n",
       " {\"The use of bad language on social media really bothers me. 😤 It's so unnecessary. ❌\": 'negative'},\n",
       " {\"I find it really annoying when people use bad language in their posts. 😒 It's not classy. ❌\": 'negative'},\n",
       " {\"I wish people would think about the impact of their words before using bad language online. 😞 It's not respectful. ❌\": 'negative'},\n",
       " {\"I'm really put off by the amount of bad language I see online. 😕 It's not a good look. ❌\": 'negative'},\n",
       " {\"I find it really inappropriate when people use bad language in their comments. 😠 It's not necessary. ❌\": 'negative'},\n",
       " {\"I'm really bothered by the amount of bad language I see on social media. 😤 It's not a good example. ❌\": 'negative'},\n",
       " {\"I don't understand why people think it's okay to use bad language online. 🤔 It's not cool. ❌\": 'negative'},\n",
       " {\"The use of bad language on social media really irks me. 😡 It's so unnecessary. ❌\": 'negative'},\n",
       " {\"I find it really frustrating when people use bad language in their posts. 😒 It's not classy. ❌\": 'negative'},\n",
       " {\"I wish people would think about the impact of their words before using bad language online. 😞 It's not respectful. ❌\": 'negative'},\n",
       " {\"I'm really bothered by the amount of bad language I see online. 😕 It's not a good look. ❌\": 'negative'},\n",
       " {\"I find it really inappropriate when people use bad language in their comments. 😠 It's not necessary. ❌\": 'negative'},\n",
       " {\"I'm really put off by the amount of bad language I see on social media. 😤 It's not a good example. ❌\": 'negative'}]"
      ]
     },
     "execution_count": 3,
     "metadata": {},
     "output_type": "execute_result"
    }
   ],
   "source": [
    "comment_list"
   ]
  },
  {
   "cell_type": "markdown",
   "metadata": {},
   "source": [
    "As result I found that the accuracy fluctuates in between ~70% and 78% which directly implies that the model correctly classify 7 out of each 10 comments which indicates a \"good\" performance of the model. There must be said that the comments used in the `comments.json` file does not necessarily are part from the vocabulary. One possible feature that might increase the model performance is including as much as possible the emojis to the vocabulary, due to the fact that those even thought the type of topic or language spoken are pretty similar. "
   ]
  },
  {
   "cell_type": "code",
   "execution_count": 271,
   "metadata": {},
   "outputs": [
    {
     "data": {
      "text/plain": [
       "72.37762237762237"
      ]
     },
     "execution_count": 271,
     "metadata": {},
     "output_type": "execute_result"
    }
   ],
   "source": [
    "np.mean(np.array(prediction_list)==np.array(sentiment_num)) * 100"
   ]
  }
 ],
 "metadata": {
  "kernelspec": {
   "display_name": "Python 3",
   "language": "python",
   "name": "python3"
  },
  "language_info": {
   "codemirror_mode": {
    "name": "ipython",
    "version": 3
   },
   "file_extension": ".py",
   "mimetype": "text/x-python",
   "name": "python",
   "nbconvert_exporter": "python",
   "pygments_lexer": "ipython3",
   "version": "3.11.9"
  }
 },
 "nbformat": 4,
 "nbformat_minor": 2
}
